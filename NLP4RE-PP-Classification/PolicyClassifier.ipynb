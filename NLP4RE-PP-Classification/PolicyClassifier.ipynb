{
 "cells": [
  {
   "cell_type": "markdown",
   "metadata": {},
   "source": [
    "# Privacy Policies: Decision Tree Classifier"
   ]
  },
  {
   "cell_type": "markdown",
   "metadata": {},
   "source": [
    "### Imports"
   ]
  },
  {
   "cell_type": "code",
   "execution_count": 132,
   "metadata": {},
   "outputs": [],
   "source": [
    "import numpy as np\n",
    "import matplotlib.pyplot as plt\n",
    "import ssl\n",
    "import nltk\n",
    "import os.path\n",
    "import re\n",
    "import collections\n",
    "import pandas as pd\n",
    "import seaborn as sns\n",
    "import socket\n",
    "import pydotplus\n",
    "import random\n",
    "import logging\n",
    "\n",
    "# from six import StringIO\n",
    "\n",
    "from sklearn.feature_extraction.text import CountVectorizer\n",
    "from sklearn.feature_extraction.text import TfidfVectorizer\n",
    "from sklearn.feature_extraction.text import TfidfTransformer\n",
    "from sklearn.metrics import accuracy_score\n",
    "from sklearn.tree import DecisionTreeClassifier\n",
    "from sklearn.pipeline import Pipeline\n",
    "from sklearn.metrics import roc_auc_score\n",
    "from sklearn.metrics import accuracy_score\n",
    "from sklearn.metrics import confusion_matrix\n",
    "from sklearn.metrics import classification_report\n",
    "from sklearn.model_selection import train_test_split\n",
    "from sklearn.model_selection import GridSearchCV\n",
    "from sklearn.tree import export_graphviz\n",
    "from nltk.stem import PorterStemmer\n",
    "from nltk.corpus import stopwords\n",
    "from nltk.stem.wordnet import WordNetLemmatizer\n",
    "from langdetect import detect\n",
    "from newspaper import Article\n",
    "from bs4 import BeautifulSoup, NavigableString, Tag\n",
    "from urllib.request import urlopen, Request\n",
    "from urllib.error import URLError, HTTPError\n",
    "from http.client import IncompleteRead\n",
    "from IPython.display import Image\n",
    "from pprint import pprint\n",
    "from time import time\n",
    "\n",
    "stop_words = stopwords.words('english')"
   ]
  },
  {
   "cell_type": "markdown",
   "metadata": {},
   "source": [
    "### Methods"
   ]
  },
  {
   "cell_type": "markdown",
   "metadata": {},
   "source": [
    "Method that converts list to string"
   ]
  },
  {
   "cell_type": "code",
   "execution_count": 133,
   "metadata": {},
   "outputs": [],
   "source": [
    "def list_to_string(s):\n",
    "\t# initialize an empty string\n",
    "\tstr1 = \"\"\n",
    "\t\n",
    "\t# traverse in the string\n",
    "\tfor ele in s:\n",
    "\t\tstr1 += ele\n",
    "\t\n",
    "\t# return string\n",
    "\treturn str1"
   ]
  },
  {
   "cell_type": "markdown",
   "metadata": {},
   "source": [
    "Method to scrape a privacy policy from a given URL"
   ]
  },
  {
   "cell_type": "code",
   "execution_count": 134,
   "metadata": {},
   "outputs": [],
   "source": [
    "def scrape_policy_url(policy_url):\n",
    "\tparsed_policy = \"\"\n",
    "\ttry:\n",
    "\t\tarticle = Article(policy_url)\n",
    "\t\tarticle.download()  # Downloads the link’s HTML content\n",
    "\t\tarticle.parse()  # Parse the article\n",
    "\t\tarticle.nlp()\n",
    "\t\t# print(policy_url)\n",
    "\t\t# print(article.text)\n",
    "\t\tparsed_policy = article\n",
    "\t# except article.ArticleException as ae:\n",
    "\t# print(ae)\n",
    "\texcept:\n",
    "\t\tpass\n",
    "\t# avoid too many requests error from Google\n",
    "\t\n",
    "\treturn parsed_policy"
   ]
  },
  {
   "cell_type": "markdown",
   "metadata": {},
   "source": [
    "Method to find the relevant paragraph of a privacy policy"
   ]
  },
  {
   "cell_type": "code",
   "execution_count": 135,
   "metadata": {},
   "outputs": [],
   "source": [
    "def find_relevant_paragraph(policy_url):\n",
    "\t# policy_url = \"https://irs.gov/privacy-disclosure/report-phishing\"\n",
    "\t\n",
    "\tpre_dataframe = [[]]\n",
    "\tpotential_paragraph = \"\"\n",
    "\theaders = {\"User-Agent\": \"Mozilla/5.0 (Windows NT 6.1) AppleWebKit/537.36 (KHTML, like Gecko) \"\n",
    "\t                         \"Chrome/41.0.2228.0 Safari/537.3\"}\n",
    "\t\n",
    "\t# header = {'user-agent': 'Mozilla/5.0 (Macintosh; Intel Mac OS X 10.9; rv:32.0) Gecko/20100101 Firefox/32.0', }\n",
    "\t\n",
    "\ttry:\n",
    "\t\treq = Request(policy_url, headers=headers)\n",
    "\t\thtml = urlopen(req, timeout=1)\n",
    "\t\t\n",
    "\t\t# fill first element of the list (first cell of row) with the relevant website title\n",
    "\t\t# policy_list.append(urlparse(policy.url).netloc + \".txt\")\n",
    "\t\t# html = urlopen('https://automattic.com/privacy/')\n",
    "\t\t\n",
    "\t\tbs = BeautifulSoup(html, \"html.parser\")\n",
    "\t\t# bs = BeautifulSoup(req.text, \"lxml\")\n",
    "\t\t\n",
    "\t\t# 6 levels of HTML-headers\n",
    "\t\t# titles = bs.find_all(['h1', 'h2', 'h3', 'h4', 'h5', 'h6'])\n",
    "\t\t# print('List all the header tags :', *titles, sep='\\n\\n')\n",
    "\t\t\n",
    "\t\tfor header in bs.find_all(['h1', 'h2', 'h3', 'h4', 'h5', 'h6']):\n",
    "\t\t\t# print(header.text.strip())\n",
    "\t\t\tif (\"right\" or \"rights\") in header.text.strip().lower():\n",
    "\t\t\t\t\n",
    "\t\t\t\tnextNode = header\n",
    "\t\t\t\twhile True:\n",
    "\t\t\t\t\tnextNode = nextNode.nextSibling\n",
    "\t\t\t\t\tif nextNode is None:\n",
    "\t\t\t\t\t\tbreak\n",
    "\t\t\t\t\tif isinstance(nextNode, NavigableString):\n",
    "\t\t\t\t\t\t# print(nextNode.strip())\n",
    "\t\t\t\t\t\tpotential_paragraph = potential_paragraph + \" \" + nextNode.strip()\n",
    "\t\t\t\t\tif isinstance(nextNode, Tag):\n",
    "\t\t\t\t\t\tif nextNode.name == \"h2\":\n",
    "\t\t\t\t\t\t\tbreak\n",
    "\t\t\t\t\t\t# print(nextNode.get_text(strip=True).strip())\n",
    "\t\t\t\t\t\tpotential_paragraph = potential_paragraph + \" \" + nextNode.get_text(strip=True).strip()\n",
    "\t\n",
    "\t# policy_list.append(header.text.strip())\n",
    "\t# print(\"*** *** *** END\")\n",
    "\t# pre_dataframe.append(policy_list)\n",
    "\texcept HTTPError as e:\n",
    "\t\t# do something\n",
    "\t\tprint('Error code: ', e.code)\n",
    "\t\tpass\n",
    "\texcept URLError as e:\n",
    "\t\t# do something\n",
    "\t\tprint('Reason: ', e.reason)\n",
    "\t\tpass\n",
    "\texcept socket.timeout as e:\n",
    "\t\t# if urlopen takes too long just skip the url\n",
    "\t\tpass\n",
    "\texcept IncompleteRead:\n",
    "\t\t# Oh well, reconnect and keep trucking\n",
    "\t\tpass\n",
    "\texcept ConnectionResetError:\n",
    "\t\tpass\n",
    "\texcept ssl.SSLWantReadError:\n",
    "\t\tpass\n",
    "\t\n",
    "\treturn potential_paragraph"
   ]
  },
  {
   "cell_type": "markdown",
   "metadata": {},
   "source": [
    "Method to read policy texts from specified directory. The language and length of the policy is held against a check to filter out irrelevant policies"
   ]
  },
  {
   "cell_type": "code",
   "execution_count": 136,
   "metadata": {},
   "outputs": [],
   "source": [
    "def read_texts(n_words_policy, check_reduced):\n",
    "\t# print(\"Extracting texts from: \" + data_dir)\n",
    "\tall_files = os.listdir(data_dir)\n",
    "\tselected_files = []\n",
    "\tpolicies_list = []\n",
    "\ttitles = []\n",
    "\t\n",
    "\t# filter on txt files (redundant, but safety first)\n",
    "\ttxt_files = filter(lambda x: x[-4:] == '.txt', all_files)\n",
    "\t# print(\"Potential policies found: \" + str(len(all_files)))\n",
    "\t\n",
    "\tfor file in txt_files:\n",
    "\t\t# print(file)\n",
    "\t\tnew_file = []\n",
    "\t\tpotential_policy_text = \"\"\n",
    "\t\twith open((data_dir + \"\\\\\" + file), \"r\", encoding=\"utf8\") as policy:\n",
    "\t\t\tdata = policy.readlines()\n",
    "\t\t\tpolicy_text = list_to_string(data[5:])\n",
    "\t\t\tpolicy_url = list_to_string(data[1])[5:]\n",
    "\t\t\tnew_file[:5] = data[:5]\n",
    "\t\t\tif len(policy_text.split()) > n_words_policy:\n",
    "\t\t\t\tlang = detect(policy_text)\n",
    "\t\t\t\tif lang == 'en':\n",
    "\t\t\t\t\t# print(\"het is engels\")\n",
    "\t\t\t\t\t# print(lang)\n",
    "\t\t\t\t\t\n",
    "\t\t\t\t\t# -if text can be reduced, reduce\n",
    "\t\t\t\t\tif check_reduced:\n",
    "\t\t\t\t\t\tpotential_policy_text = find_relevant_paragraph(policy_url)\n",
    "\t\t\t\t\t\n",
    "\t\t\t\t\tif len(potential_policy_text) > 20:\n",
    "\t\t\t\t\t\t# print(\"Considering... reduced text\")\n",
    "\t\t\t\t\t\tpolicies_list.append(potential_policy_text)\n",
    "\t\t\t\t\t\tnew_file.append(\"Reduced Policy: \" + potential_policy_text)\n",
    "\t\t\t\t\telse:\n",
    "\t\t\t\t\t\t# print(\"Considering... full text\")\n",
    "\t\t\t\t\t\t# otherwise consider text in full\n",
    "\t\t\t\t\t\tpolicies_list.append(policy_text)\n",
    "\t\t\t\t\ttitle = (data[0].rstrip(\"\\n\").replace(\"Title: \", \"\"))\n",
    "\t\t\t\t\ttitles.append(title)\n",
    "\t\t\t\t\tselected_files.append(file)\n",
    "\t\t\t\telse:\n",
    "\t\t\t\t\t# print(\"het is geen engels\")\n",
    "\t\t\t\t\t# print(lang)\n",
    "\t\t\t\t\tpass\n",
    "\t\tif len(potential_policy_text) > 20:\n",
    "\t\t\twith open((data_dir + \"\\\\\" + file), \"w\", encoding=\"utf8\") as selected_file:\n",
    "\t\t\t\tselected_file.writelines(new_file)\n",
    "\t\n",
    "\tprint(\"Final number of policies after filtering: \" + str(len(policies_list)))\n",
    "\t# return policies_list, titles\n",
    "\treturn selected_files, policies_list"
   ]
  },
  {
   "cell_type": "markdown",
   "metadata": {},
   "source": [
    "Method to link the read policies to the URLs of the dataframe "
   ]
  },
  {
   "cell_type": "code",
   "execution_count": 137,
   "metadata": {},
   "outputs": [],
   "source": [
    "def select_policies(url_list, policy_list, policy_list_text):\n",
    "\turl_policy_list = []\n",
    "\tcounter = 0\n",
    "\tfor url in url_list:\n",
    "\t\turl_counter = 0\n",
    "\t\tfor i, policy in enumerate(policy_list, start=0):  # default is zero\n",
    "\t\t\tif url in policy:\n",
    "\t\t\t\tif url_counter == 0:\n",
    "\t\t\t\t\turl_policy_list.append(policy_list_text[i])\n",
    "\t\t\t\t\t# print(url)\n",
    "\t\t\t\t\t# print(policy)\n",
    "\t\t\t\telse:\n",
    "\t\t\t\t\t# print(\"Dubbel\")\n",
    "\t\t\t\t\t# if there are multiple policies for one website, select the one that is longer\n",
    "\t\t\t\t\tif len(policy_list_text[i]) > len(url_policy_list[-1]):\n",
    "\t\t\t\t\t\turl_policy_list[-1] = policy_list_text[i]\n",
    "\t\t\t\turl_counter = 1\n",
    "\t\tif url_counter == 0:\n",
    "\t\t\turl_policy_list.append(\"\")\n",
    "\t\n",
    "\treturn url_policy_list"
   ]
  },
  {
   "cell_type": "markdown",
   "metadata": {},
   "source": [
    "Read labelled dataset into a pandas dataframe"
   ]
  },
  {
   "cell_type": "code",
   "execution_count": 138,
   "metadata": {},
   "outputs": [],
   "source": [
    "def read_data():\n",
    "\tdf_pp_read = pd.read_excel(dir)\n",
    "\t\n",
    "\t# SELECT ONLY URLS THAT ARE EITHER RELEVANT OR NOT RELEVANT WITH EXCLUSION CRITERIA CODE E1 (NOT RELEVANT)\n",
    "\tdf_pp_relevant = df_pp_read[(df_pp_read['included'] == 'y') | (df_pp_read['included'] == 'e1')]\n",
    "\t\n",
    "\tdf_pp_relevant_scoped = df_pp_relevant[\n",
    "\t\t['URL', 'included', 'UR_explicitly_mentioned', 'access', 'rectification', 'erasure', 'restriction',\n",
    "\t\t 'data_portability', 'object', 'automated_decision_making']]\n",
    "\t\n",
    "\tdf_user_rights = df_pp_relevant[['access', 'rectification', 'erasure', 'restriction',\n",
    "\t                                 'data_portability', 'object', 'automated_decision_making']]\n",
    "\t\n",
    "\t# plot_stats(df_user_rights)\n",
    "\t\n",
    "\t# LIST OF URLs\n",
    "\turl_list = df_pp_relevant_scoped['URL'].tolist()\n",
    "\t\n",
    "\treturn df_pp_read, df_pp_relevant, df_pp_relevant_scoped, df_user_rights, url_list"
   ]
  },
  {
   "cell_type": "markdown",
   "metadata": {},
   "source": [
    "Identify document features (BOG approach)"
   ]
  },
  {
   "cell_type": "code",
   "execution_count": 139,
   "metadata": {},
   "outputs": [],
   "source": [
    "def document_features2(document):\n",
    "\tdocument_words = set(document)  # faster than list\n",
    "\tfeatures = {}\n",
    "\tfor word in word_features_p:\n",
    "\t\tfeatures['contains({})'.format(word)] = (word in document_words)\n",
    "\treturn features"
   ]
  },
  {
   "cell_type": "markdown",
   "metadata": {},
   "source": [
    "Preprocess policies"
   ]
  },
  {
   "cell_type": "code",
   "execution_count": 140,
   "metadata": {},
   "outputs": [],
   "source": [
    "def pre_processing(policies_list):\n",
    "\tcounter = 0\n",
    "\tlemma = WordNetLemmatizer()\n",
    "\t# Remove punctuation\n",
    "\t# print(\"removing punctuation ...\")\n",
    "\tpolicies_list = [re.sub('[,\\.!?&“”():*_;\"]', '', x) for x in policies_list]\n",
    "\tpolicies_list = [re.sub('[\\'’/]', '', x) for x in policies_list]\n",
    "\t\n",
    "\t# remove digits\n",
    "\tpolicies_list = [re.sub(r'\\d+', '', x) for x in policies_list]\n",
    "\t\n",
    "\t# Convert the titles to lowercase\n",
    "\tpolicies_list = [x.lower() for x in policies_list]\n",
    "\t\n",
    "\t# remove short words\n",
    "\tpolicies_list = [' '.join([w for w in x.split() if len(w) > 3]) for x in policies_list]\n",
    "\t\n",
    "\t# tokenizing\n",
    "\ttokenized_policies = [x.split() for x in policies_list]\n",
    "\t\n",
    "\t# lemmatize\n",
    "\ttokenized_policies = [[lemma.lemmatize(y) for y in x] for x in tokenized_policies]\n",
    "\t\n",
    "\t# stemming\n",
    "\tporter = PorterStemmer()\n",
    "\ttokenized_policies = [[porter.stem(y) for y in x] for x in tokenized_policies]\n",
    "\t\n",
    "\t# remove emailadresses and URLs\n",
    "\t# tokenized_policies = [[y for y in x if(\"@\" not in y)] for x in tokenized_policies]\n",
    "\ttokenized_policies = [[y for y in x if ((\"@\" not in y) and (\"http\" not in y) and\n",
    "\t                                        (\"wwww\" not in y) and (\"com\" not in y))] for x in tokenized_policies]\n",
    "\t\n",
    "\t\n",
    "\t# remove stopwords\n",
    "\ttokenized_policies = [[y for y in x if not y in stop_words] for x in tokenized_policies]\n",
    "\t\n",
    "\t# print(relevant_words_lemmatized)\n",
    "\t# print(tokenized_policies)\n",
    "\t# print(\"length of policy: \" + str(len(tokenized_policies)))\n",
    "\t# print(\"\\n\")\n",
    "\t\n",
    "\tdetokenized_policies = []\n",
    "\tfor i in range(len(policies_list)):\n",
    "\t\tt = ' '.join(tokenized_policies[i])\n",
    "\t\tdetokenized_policies.append(t)\n",
    "\t\t\n",
    "\treturn detokenized_policies"
   ]
  },
  {
   "cell_type": "code",
   "execution_count": 141,
   "metadata": {},
   "outputs": [],
   "source": [
    "def plot_dataset_dist(category):\n",
    "    sns.countplot(x = category, data = df_pp, palette = 'hls')\n",
    "    plt.xlabel('Count', fontsize = 12)\n",
    "    plt.ylabel('Pre-labeled right to ' + category, fontsize = 13)\n",
    "    plt.show()"
   ]
  },
  {
   "cell_type": "markdown",
   "metadata": {},
   "source": [
    "Creating a plot for feature importance,\n",
    "source: https://www.kaggle.com/josh24990/nlp-ml-which-words-predict-a-recommendation"
   ]
  },
  {
   "cell_type": "code",
   "execution_count": 142,
   "metadata": {},
   "outputs": [],
   "source": [
    "def importance_plotting(data,x,y,palette,title):\n",
    "    sns.set(style=\"whitegrid\")\n",
    "    ft = sns.PairGrid(data,y_vars=y,x_vars=x,size=5,aspect=1)\n",
    "    ft.map(sns.stripplot,orient='h',palette=palette, edgecolor=\"black\",size=15)\n",
    "    for ax, title in zip(ft.axes.flat, titles):\n",
    "        \n",
    "    # Set a different title for each axes\n",
    "        ax.set(title=title)\n",
    "        \n",
    "    # Make the grid horizontal instead of vertical\n",
    "        ax.xaxis.grid(False)\n",
    "        ax.yaxis.grid(True)\n",
    "\n",
    "    plt.show()\n"
   ]
  },
  {
   "cell_type": "markdown",
   "metadata": {},
   "source": [
    "Oversample Automated-Decision Making labeled policies"
   ]
  },
  {
   "cell_type": "code",
   "execution_count": 143,
   "metadata": {},
   "outputs": [],
   "source": [
    "def oversample_ADM(X_train, y_train):\n",
    "    y_temp = y_train[(y_train == 1)]\n",
    "    x_temp = X_train[(y_train == 1)]\n",
    "\n",
    "# until approx. 50/50 distribution is achieved\n",
    "    while(int((len(y_train[(y_train == 1)]) / len((y_train)))*100) < 50):\n",
    "\n",
    "        y_train = y_train.append(y_temp, ignore_index=True)\n",
    "        X_train = X_train.append(x_temp, ignore_index=True)\n",
    "#         print(\"loop\")\n",
    "#         print(int( (len(y_train[(y_train == 1)]) / len((y_train)) )*100))\n",
    "#         print(len((y_train[(y_train == 1)])) )\n",
    "#         print( len((y_train)))\n",
    "\n",
    "    return X_train, y_train"
   ]
  },
  {
   "cell_type": "markdown",
   "metadata": {},
   "source": [
    "Visualize decision tree"
   ]
  },
  {
   "cell_type": "code",
   "execution_count": 154,
   "metadata": {},
   "outputs": [],
   "source": [
    "def draw_tree(category, tdidf_dt_classifier, tfidf_vectorizer, suffix):\n",
    "    # Visualize data\n",
    "    dot_data = export_graphviz(tdidf_dt_classifier,\n",
    "                                    feature_names=tfidf_vectorizer.get_feature_names(),\n",
    "                                    out_file=None,\n",
    "                                    filled=True,\n",
    "                                    rounded=True)\n",
    "    graph = pydotplus.graph_from_dot_data(dot_data)\n",
    "\n",
    "    colors = ('turquoise', 'orange')\n",
    "    edges = collections.defaultdict(list)\n",
    "\n",
    "    for edge in graph.get_edge_list():\n",
    "        edges[edge.get_source()].append(int(edge.get_destination()))\n",
    "\n",
    "    for edge in edges:\n",
    "        edges[edge].sort()    \n",
    "        for i in range(2):\n",
    "            dest = graph.get_node(str(edges[edge][i]))[0]\n",
    "            dest.set_fillcolor(colors[i])\n",
    "\n",
    "    graph.write_png('output/'+ category + '/' + suffix + '.png')"
   ]
  },
  {
   "cell_type": "markdown",
   "metadata": {},
   "source": [
    "### Main"
   ]
  },
  {
   "cell_type": "markdown",
   "metadata": {},
   "source": [
    "Directories"
   ]
  },
  {
   "cell_type": "code",
   "execution_count": 145,
   "metadata": {},
   "outputs": [],
   "source": [
    "\tpd.set_option(\"display.max_rows\", None, \"display.max_columns\", None)  # print all values of dataframe\n",
    "\tdir = \"data/PP_comparison_classification.xlsx\"\n",
    "\tdata_dir = \"data/privacy_policies\""
   ]
  },
  {
   "cell_type": "markdown",
   "metadata": {},
   "source": [
    "Read the separate datasets and link them"
   ]
  },
  {
   "cell_type": "code",
   "execution_count": 146,
   "metadata": {},
   "outputs": [
    {
     "name": "stdout",
     "output_type": "stream",
     "text": [
      "Reading data from: data/PP_comparison_classification.xlsx ...\n",
      "Extracting policy texts from: data/privacy_policies ...\n",
      "Final number of policies after filtering: 489\n",
      "Link dataset to extracted policies ... \n",
      "\n"
     ]
    }
   ],
   "source": [
    "\tprint(\"Reading data from: \" + dir + \" ...\")\n",
    "\tdf_pp_read, df_pp_relevant, df_pp_relevant_scoped, df_user_rights, url_list = read_data()\n",
    "\t\n",
    "\t# search for corresponding policies\n",
    "\tprint(\"Extracting policy texts from: \" + data_dir + \" ...\")\n",
    "\tpolicy_list, policy_list_text = read_texts(140, False)\n",
    "\t\n",
    "\tprint(\"Link dataset to extracted policies ... \\n\")\n",
    "\turl_list_policies = select_policies(url_list, policy_list, policy_list_text)\n",
    "\turl_list_policies = pre_processing(url_list_policies)"
   ]
  },
  {
   "cell_type": "markdown",
   "metadata": {},
   "source": [
    "Combine datasets in one dataframe"
   ]
  },
  {
   "cell_type": "code",
   "execution_count": 147,
   "metadata": {},
   "outputs": [],
   "source": [
    "df_pp_relevant_scoped.insert(2, 'policy', url_list_policies)"
   ]
  },
  {
   "cell_type": "markdown",
   "metadata": {},
   "source": [
    "Print empty policies"
   ]
  },
  {
   "cell_type": "code",
   "execution_count": 148,
   "metadata": {},
   "outputs": [],
   "source": [
    "#print(df_pp_relevant_scoped[(df_pp_relevant_scoped['policy'] == \"\")])"
   ]
  },
  {
   "cell_type": "markdown",
   "metadata": {},
   "source": [
    "#### Policy distribution"
   ]
  },
  {
   "cell_type": "code",
   "execution_count": 149,
   "metadata": {},
   "outputs": [
    {
     "name": "stdout",
     "output_type": "stream",
     "text": [
      "Category UR_explicitly_mentioned\n",
      "Positive labels: 87\n",
      "Negative labels: 46 \n",
      "\n",
      "Category access\n",
      "Positive labels: 89\n",
      "Negative labels: 44 \n",
      "\n",
      "Category rectification\n",
      "Positive labels: 87\n",
      "Negative labels: 46 \n",
      "\n",
      "Category erasure\n",
      "Positive labels: 87\n",
      "Negative labels: 46 \n",
      "\n",
      "Category restriction\n",
      "Positive labels: 67\n",
      "Negative labels: 66 \n",
      "\n",
      "Category data_portability\n",
      "Positive labels: 61\n",
      "Negative labels: 72 \n",
      "\n",
      "Category object\n",
      "Positive labels: 67\n",
      "Negative labels: 66 \n",
      "\n",
      "Category automated_decision_making\n",
      "Positive labels: 13\n",
      "Negative labels: 120 \n",
      "\n"
     ]
    }
   ],
   "source": [
    "categories = ['UR_explicitly_mentioned', 'access', 'rectification', 'erasure', 'restriction',\n",
    "              'data_portability', 'object', 'automated_decision_making']\n",
    "\n",
    "# what is the policy distribution?\n",
    "df_pp_filtered = df_pp_relevant_scoped[(df_pp_relevant_scoped['policy'] != \"\")]\n",
    "# print(\"Policy distribution after filtering out empty policy texts\")\n",
    "# print(\"* Number of policies included with label \\\"y\\\": \" + str(len(df_pp_filtered[(df_pp_filtered['included'] == 'y')])))\n",
    "# print(\"* Number of policies excluded with label \\\"e1\\\": \" + str(len(df_pp_filtered[(df_pp_filtered['included'] == 'e1')])))\n",
    "# print(\"Total number of policies: \" + str(len(df_pp_filtered)) + \"\\n\")\n",
    "\n",
    "for category in categories:\n",
    "    print(\"Category {}\".format(category))\n",
    "    print(\"Positive labels: {}\".format(len(df_pp_filtered[(df_pp_filtered[category] == 1)])))\n",
    "    print(\"Negative labels: {} \\n\".format(len(df_pp_filtered[(df_pp_filtered[category] == 0)])))\n",
    "\n",
    "df_pp = df_pp_filtered"
   ]
  },
  {
   "cell_type": "markdown",
   "metadata": {},
   "source": [
    "#### Write processed dataframe to file (attempt to save memory)"
   ]
  },
  {
   "cell_type": "code",
   "execution_count": 18,
   "metadata": {},
   "outputs": [],
   "source": [
    "df_pp.to_csv('data/processed_policies_v1.csv') #v1 means witthout reduced policies"
   ]
  },
  {
   "cell_type": "code",
   "execution_count": null,
   "metadata": {},
   "outputs": [],
   "source": [
    "#### Read processed dataframe"
   ]
  },
  {
   "cell_type": "code",
   "execution_count": 14,
   "metadata": {},
   "outputs": [],
   "source": [
    "# data/processed_policies_v1.csv = without reduced policies\n",
    "# data/processed_policies.csv = with reduced policies\n",
    "df_pp = pd.read_csv(\"data/processed_policies_v1.csv\")"
   ]
  },
  {
   "cell_type": "markdown",
   "metadata": {},
   "source": [
    "#### Create dictionary consisting of {policy, label}"
   ]
  },
  {
   "cell_type": "code",
   "execution_count": null,
   "metadata": {},
   "outputs": [],
   "source": [
    "# policy_dict = [(policy_t.split(), label)\n",
    "# \t             for policy_t in df_pp['policy'].to_list()\n",
    "# \t             for label in df_pp['data_portability'].to_list()]\n",
    "\t\n",
    "\n",
    "# # random.shuffle(documents)\n",
    "# random.shuffle(policy_dict)"
   ]
  },
  {
   "cell_type": "markdown",
   "metadata": {},
   "source": [
    "#### Explore policy length distribution"
   ]
  },
  {
   "cell_type": "code",
   "execution_count": 28,
   "metadata": {},
   "outputs": [
    {
     "data": {
      "text/plain": [
       "61"
      ]
     },
     "execution_count": 28,
     "metadata": {},
     "output_type": "execute_result"
    }
   ],
   "source": [
    "# Positive labeled policies PROBLEEM MET DE VALUES\n",
    "len(df_pp[df_pp['data_portability'] == 1])"
   ]
  },
  {
   "cell_type": "code",
   "execution_count": 29,
   "metadata": {
    "collapsed": true
   },
   "outputs": [
    {
     "name": "stdout",
     "output_type": "stream",
     "text": [
      "[1. 0. 0. 1. 0. 1. 0. 0. 1. 1. 0. 1. 0. 1. 0. 0. 0. 0. 0. 1. 1. 1. 1. 1.\n",
      " 0. 1. 1. 0. 0. 1. 0. 0. 0. 0. 1. 0. 0. 1. 1. 0. 0. 0. 0. 1. 0. 0. 1. 1.\n",
      " 0. 0. 1. 0. 1. 1. 1. 0. 0. 1. 0. 1. 0. 0. 0. 0. 1. 1. 1. 1. 0. 0. 0. 1.\n",
      " 1. 1. 0. 0. 0. 0. 1. 1. 1. 0. 1. 0. 0. 1. 0. 0. 1. 1. 0. 0. 1. 0. 1. 0.\n",
      " 1. 0. 1. 0. 0. 1. 0. 1. 0. 1. 0. 0. 1. 1. 0. 1. 0. 1. 1. 0. 0. 1. 1. 0.\n",
      " 1. 0. 0. 1. 1. 0. 0. 0. 0. 1. 1. 1.]\n"
     ]
    }
   ],
   "source": [
    "# Negative labeled policies\n",
    "# len(df_pp[df_pp['object'] == 0])\n",
    "\n",
    "# df['Review'].values.astype('U')\n",
    "print(df_pp['data_portability'].values)\n",
    "# print(len(df_pp['object']))\n",
    "# print(len(df_pp[df_pp['object'] == 1]))\n",
    "# print(len(df_pp[df_pp['object'] == 0]))\n",
    "# print((df_pp[df_pp['object'] == 0]))\n",
    "\n",
    "# print(df_pp['object'].isnull().values.any())\n",
    "\n",
    "# print(df_pp[df_pp['object'].isnull()])"
   ]
  },
  {
   "cell_type": "code",
   "execution_count": 15,
   "metadata": {
    "collapsed": true
   },
   "outputs": [
    {
     "name": "stdout",
     "output_type": "stream",
     "text": [
      "0       3510\n",
      "2       8059\n",
      "3      20308\n",
      "5        796\n",
      "6      40684\n",
      "7      20891\n",
      "14      3777\n",
      "15     84415\n",
      "16      8769\n",
      "17     15405\n",
      "18      2686\n",
      "21     19052\n",
      "25     49213\n",
      "26      2933\n",
      "32     19199\n",
      "33     13675\n",
      "34     22348\n",
      "36     11909\n",
      "37      3661\n",
      "40     26769\n",
      "42      9594\n",
      "43     15404\n",
      "44     23759\n",
      "45      7778\n",
      "46      3883\n",
      "48      1717\n",
      "50     17050\n",
      "51     18296\n",
      "52      3229\n",
      "53     14218\n",
      "55     15065\n",
      "57     19084\n",
      "58     18521\n",
      "59     21552\n",
      "62      2763\n",
      "63     11564\n",
      "64     13651\n",
      "66      2208\n",
      "67      9472\n",
      "69     15780\n",
      "73     18018\n",
      "76      9633\n",
      "77     28294\n",
      "78     16805\n",
      "79     10599\n",
      "80     36935\n",
      "83     14653\n",
      "84      1213\n",
      "86     24077\n",
      "87      1026\n",
      "88     13204\n",
      "91      1010\n",
      "92      5161\n",
      "93     18489\n",
      "94     21052\n",
      "96     17290\n",
      "97      8145\n",
      "98       403\n",
      "101     6274\n",
      "104    23913\n",
      "105    23913\n",
      "110    36734\n",
      "114    19348\n",
      "125     2425\n",
      "126    14047\n",
      "128      403\n",
      "129     6274\n",
      "132    23913\n",
      "133    23913\n",
      "135    36734\n",
      "137    19348\n",
      "139     2425\n",
      "140    14047\n",
      "Name: policy, dtype: int64\n"
     ]
    },
    {
     "name": "stderr",
     "output_type": "stream",
     "text": [
      "c:\\users\\aaberkan\\onedrive - ugent\\scripts\\nlp4re-privacy-policies\\nlp4re-pp-classification\\venv\\lib\\site-packages\\seaborn\\distributions.py:2551: FutureWarning: `distplot` is a deprecated function and will be removed in a future version. Please adapt your code to use either `displot` (a figure-level function with similar flexibility) or `histplot` (an axes-level function for histograms).\n",
      "  warnings.warn(msg, FutureWarning)\n",
      "c:\\users\\aaberkan\\onedrive - ugent\\scripts\\nlp4re-privacy-policies\\nlp4re-pp-classification\\venv\\lib\\site-packages\\seaborn\\distributions.py:2551: FutureWarning: `distplot` is a deprecated function and will be removed in a future version. Please adapt your code to use either `displot` (a figure-level function with similar flexibility) or `histplot` (an axes-level function for histograms).\n",
      "  warnings.warn(msg, FutureWarning)\n"
     ]
    },
    {
     "data": {
      "text/plain": [
       "<matplotlib.legend.Legend at 0x6008cb8>"
      ]
     },
     "execution_count": 15,
     "metadata": {},
     "output_type": "execute_result"
    },
    {
     "data": {
      "image/png": "[encoded data removed]",
      "text/plain": [
       "<Figure size 432x288 with 1 Axes>"
      ]
     },
     "metadata": {
      "needs_background": "light"
     },
     "output_type": "display_data"
    }
   ],
   "source": [
    "RTobject =df_pp[df_pp['object'] == 1]['policy'].str.len()\n",
    "print(df_pp[df_pp['object'] == 1]['policy'].str.len())\n",
    "sns.distplot(RTobject, label='Right to Object')\n",
    "NRTobject = df_pp[df_pp['object'] == 0]['policy'].str.len()\n",
    "sns.distplot(NRTobject, label='No GDPR-founded Right to Object')\n",
    "plt.title('Distribution by Length')\n",
    "plt.legend()"
   ]
  },
  {
   "cell_type": "markdown",
   "metadata": {},
   "source": [
    "##### Divide data into training and testset"
   ]
  },
  {
   "cell_type": "code",
   "execution_count": 37,
   "metadata": {},
   "outputs": [],
   "source": [
    "# size_p = int(len(featuresets_p) * 0.5)\n",
    "# train_set_p, test_set_p = featuresets_p[size_p:], featuresets_p[:size_p]\n",
    "X_train, X_test, y_train, y_test = train_test_split(df_pp['policy'], df_pp['automated_decision_making'], test_size=0.33, random_state=0)\n"
   ]
  },
  {
   "cell_type": "markdown",
   "metadata": {},
   "source": [
    "#### Train classifier and classify"
   ]
  },
  {
   "cell_type": "code",
   "execution_count": null,
   "metadata": {},
   "outputs": [],
   "source": [
    "# classifier = nltk.DecisionTreeClassifier.train(train_set_p)\n",
    "# print(nltk.classify.accuracy(classifier, test_set_p))\n",
    "# print(classifier.pseudocode(depth=4))"
   ]
  },
  {
   "cell_type": "code",
   "execution_count": null,
   "metadata": {},
   "outputs": [],
   "source": [
    "# accuracy = nltk.classify.accuracy(nltk_model, test_set_p)*100\n",
    "# print(\"{} Accuracy: {}\".format(\"Decision Tree\", accuracy))"
   ]
  },
  {
   "cell_type": "markdown",
   "metadata": {},
   "source": [
    "## Countvectorizer Approach"
   ]
  },
  {
   "cell_type": "markdown",
   "metadata": {},
   "source": [
    "##### Search for best variables (countvectorizer)"
   ]
  },
  {
   "cell_type": "code",
   "execution_count": 79,
   "metadata": {
    "collapsed": true
   },
   "outputs": [
    {
     "name": "stdout",
     "output_type": "stream",
     "text": [
      "Performing grid search...\n",
      "tf-idf pipeline: ['cv', 'dt']\n",
      "parameters:\n",
      "{'cv__max_df': (0.5, 0.75, 1),\n",
      " 'cv__ngram_range': ((1, 1), (1, 2), (1, 3), (2, 2), (2, 3), (3, 3))}\n"
     ]
    },
    {
     "ename": "KeyboardInterrupt",
     "evalue": "",
     "output_type": "error",
     "traceback": [
      "\u001b[1;31m---------------------------------------------------------------------------\u001b[0m",
      "\u001b[1;31mKeyboardInterrupt\u001b[0m                         Traceback (most recent call last)",
      "\u001b[1;32m<ipython-input-79-2931d150a588>\u001b[0m in \u001b[0;36m<module>\u001b[1;34m\u001b[0m\n\u001b[0;32m     20\u001b[0m \u001b[0mpprint\u001b[0m\u001b[1;33m(\u001b[0m\u001b[0mparameters\u001b[0m\u001b[1;33m)\u001b[0m\u001b[1;33m\u001b[0m\u001b[1;33m\u001b[0m\u001b[0m\n\u001b[0;32m     21\u001b[0m \u001b[0mt0\u001b[0m \u001b[1;33m=\u001b[0m \u001b[0mtime\u001b[0m\u001b[1;33m(\u001b[0m\u001b[1;33m)\u001b[0m\u001b[1;33m\u001b[0m\u001b[1;33m\u001b[0m\u001b[0m\n\u001b[1;32m---> 22\u001b[1;33m \u001b[0mgrid_search\u001b[0m\u001b[1;33m.\u001b[0m\u001b[0mfit\u001b[0m\u001b[1;33m(\u001b[0m\u001b[0mX_train\u001b[0m\u001b[1;33m,\u001b[0m \u001b[0my_train\u001b[0m\u001b[1;33m)\u001b[0m\u001b[1;33m\u001b[0m\u001b[1;33m\u001b[0m\u001b[0m\n\u001b[0m\u001b[0;32m     23\u001b[0m \u001b[0mprint\u001b[0m\u001b[1;33m(\u001b[0m\u001b[1;34m\"done in %0.3fs\"\u001b[0m \u001b[1;33m%\u001b[0m \u001b[1;33m(\u001b[0m\u001b[0mtime\u001b[0m\u001b[1;33m(\u001b[0m\u001b[1;33m)\u001b[0m \u001b[1;33m-\u001b[0m \u001b[0mt0\u001b[0m\u001b[1;33m)\u001b[0m\u001b[1;33m)\u001b[0m\u001b[1;33m\u001b[0m\u001b[1;33m\u001b[0m\u001b[0m\n\u001b[0;32m     24\u001b[0m \u001b[0mprint\u001b[0m\u001b[1;33m(\u001b[0m\u001b[1;33m)\u001b[0m\u001b[1;33m\u001b[0m\u001b[1;33m\u001b[0m\u001b[0m\n",
      "\u001b[1;32mc:\\users\\aaberkan\\onedrive - ugent\\scripts\\nlp4re-privacy-policies\\nlp4re-pp-classification\\venv\\lib\\site-packages\\sklearn\\utils\\validation.py\u001b[0m in \u001b[0;36minner_f\u001b[1;34m(*args, **kwargs)\u001b[0m\n\u001b[0;32m     70\u001b[0m                           FutureWarning)\n\u001b[0;32m     71\u001b[0m         \u001b[0mkwargs\u001b[0m\u001b[1;33m.\u001b[0m\u001b[0mupdate\u001b[0m\u001b[1;33m(\u001b[0m\u001b[1;33m{\u001b[0m\u001b[0mk\u001b[0m\u001b[1;33m:\u001b[0m \u001b[0marg\u001b[0m \u001b[1;32mfor\u001b[0m \u001b[0mk\u001b[0m\u001b[1;33m,\u001b[0m \u001b[0marg\u001b[0m \u001b[1;32min\u001b[0m \u001b[0mzip\u001b[0m\u001b[1;33m(\u001b[0m\u001b[0msig\u001b[0m\u001b[1;33m.\u001b[0m\u001b[0mparameters\u001b[0m\u001b[1;33m,\u001b[0m \u001b[0margs\u001b[0m\u001b[1;33m)\u001b[0m\u001b[1;33m}\u001b[0m\u001b[1;33m)\u001b[0m\u001b[1;33m\u001b[0m\u001b[1;33m\u001b[0m\u001b[0m\n\u001b[1;32m---> 72\u001b[1;33m         \u001b[1;32mreturn\u001b[0m \u001b[0mf\u001b[0m\u001b[1;33m(\u001b[0m\u001b[1;33m**\u001b[0m\u001b[0mkwargs\u001b[0m\u001b[1;33m)\u001b[0m\u001b[1;33m\u001b[0m\u001b[1;33m\u001b[0m\u001b[0m\n\u001b[0m\u001b[0;32m     73\u001b[0m     \u001b[1;32mreturn\u001b[0m \u001b[0minner_f\u001b[0m\u001b[1;33m\u001b[0m\u001b[1;33m\u001b[0m\u001b[0m\n\u001b[0;32m     74\u001b[0m \u001b[1;33m\u001b[0m\u001b[0m\n",
      "\u001b[1;32mc:\\users\\aaberkan\\onedrive - ugent\\scripts\\nlp4re-privacy-policies\\nlp4re-pp-classification\\venv\\lib\\site-packages\\sklearn\\model_selection\\_search.py\u001b[0m in \u001b[0;36mfit\u001b[1;34m(self, X, y, groups, **fit_params)\u001b[0m\n\u001b[0;32m    734\u001b[0m                 \u001b[1;32mreturn\u001b[0m \u001b[0mresults\u001b[0m\u001b[1;33m\u001b[0m\u001b[1;33m\u001b[0m\u001b[0m\n\u001b[0;32m    735\u001b[0m \u001b[1;33m\u001b[0m\u001b[0m\n\u001b[1;32m--> 736\u001b[1;33m             \u001b[0mself\u001b[0m\u001b[1;33m.\u001b[0m\u001b[0m_run_search\u001b[0m\u001b[1;33m(\u001b[0m\u001b[0mevaluate_candidates\u001b[0m\u001b[1;33m)\u001b[0m\u001b[1;33m\u001b[0m\u001b[1;33m\u001b[0m\u001b[0m\n\u001b[0m\u001b[0;32m    737\u001b[0m \u001b[1;33m\u001b[0m\u001b[0m\n\u001b[0;32m    738\u001b[0m         \u001b[1;31m# For multi-metric evaluation, store the best_index_, best_params_ and\u001b[0m\u001b[1;33m\u001b[0m\u001b[1;33m\u001b[0m\u001b[1;33m\u001b[0m\u001b[0m\n",
      "\u001b[1;32mc:\\users\\aaberkan\\onedrive - ugent\\scripts\\nlp4re-privacy-policies\\nlp4re-pp-classification\\venv\\lib\\site-packages\\sklearn\\model_selection\\_search.py\u001b[0m in \u001b[0;36m_run_search\u001b[1;34m(self, evaluate_candidates)\u001b[0m\n\u001b[0;32m   1186\u001b[0m     \u001b[1;32mdef\u001b[0m \u001b[0m_run_search\u001b[0m\u001b[1;33m(\u001b[0m\u001b[0mself\u001b[0m\u001b[1;33m,\u001b[0m \u001b[0mevaluate_candidates\u001b[0m\u001b[1;33m)\u001b[0m\u001b[1;33m:\u001b[0m\u001b[1;33m\u001b[0m\u001b[1;33m\u001b[0m\u001b[0m\n\u001b[0;32m   1187\u001b[0m         \u001b[1;34m\"\"\"Search all candidates in param_grid\"\"\"\u001b[0m\u001b[1;33m\u001b[0m\u001b[1;33m\u001b[0m\u001b[0m\n\u001b[1;32m-> 1188\u001b[1;33m         \u001b[0mevaluate_candidates\u001b[0m\u001b[1;33m(\u001b[0m\u001b[0mParameterGrid\u001b[0m\u001b[1;33m(\u001b[0m\u001b[0mself\u001b[0m\u001b[1;33m.\u001b[0m\u001b[0mparam_grid\u001b[0m\u001b[1;33m)\u001b[0m\u001b[1;33m)\u001b[0m\u001b[1;33m\u001b[0m\u001b[1;33m\u001b[0m\u001b[0m\n\u001b[0m\u001b[0;32m   1189\u001b[0m \u001b[1;33m\u001b[0m\u001b[0m\n\u001b[0;32m   1190\u001b[0m \u001b[1;33m\u001b[0m\u001b[0m\n",
      "\u001b[1;32mc:\\users\\aaberkan\\onedrive - ugent\\scripts\\nlp4re-privacy-policies\\nlp4re-pp-classification\\venv\\lib\\site-packages\\sklearn\\model_selection\\_search.py\u001b[0m in \u001b[0;36mevaluate_candidates\u001b[1;34m(candidate_params)\u001b[0m\n\u001b[0;32m    706\u001b[0m                               n_splits, n_candidates, n_candidates * n_splits))\n\u001b[0;32m    707\u001b[0m \u001b[1;33m\u001b[0m\u001b[0m\n\u001b[1;32m--> 708\u001b[1;33m                 out = parallel(delayed(_fit_and_score)(clone(base_estimator),\n\u001b[0m\u001b[0;32m    709\u001b[0m                                                        \u001b[0mX\u001b[0m\u001b[1;33m,\u001b[0m \u001b[0my\u001b[0m\u001b[1;33m,\u001b[0m\u001b[1;33m\u001b[0m\u001b[1;33m\u001b[0m\u001b[0m\n\u001b[0;32m    710\u001b[0m                                                        \u001b[0mtrain\u001b[0m\u001b[1;33m=\u001b[0m\u001b[0mtrain\u001b[0m\u001b[1;33m,\u001b[0m \u001b[0mtest\u001b[0m\u001b[1;33m=\u001b[0m\u001b[0mtest\u001b[0m\u001b[1;33m,\u001b[0m\u001b[1;33m\u001b[0m\u001b[1;33m\u001b[0m\u001b[0m\n",
      "\u001b[1;32mc:\\users\\aaberkan\\onedrive - ugent\\scripts\\nlp4re-privacy-policies\\nlp4re-pp-classification\\venv\\lib\\site-packages\\joblib\\parallel.py\u001b[0m in \u001b[0;36m__call__\u001b[1;34m(self, iterable)\u001b[0m\n\u001b[0;32m   1049\u001b[0m                 \u001b[0mself\u001b[0m\u001b[1;33m.\u001b[0m\u001b[0m_iterating\u001b[0m \u001b[1;33m=\u001b[0m \u001b[0mself\u001b[0m\u001b[1;33m.\u001b[0m\u001b[0m_original_iterator\u001b[0m \u001b[1;32mis\u001b[0m \u001b[1;32mnot\u001b[0m \u001b[1;32mNone\u001b[0m\u001b[1;33m\u001b[0m\u001b[1;33m\u001b[0m\u001b[0m\n\u001b[0;32m   1050\u001b[0m \u001b[1;33m\u001b[0m\u001b[0m\n\u001b[1;32m-> 1051\u001b[1;33m             \u001b[1;32mwhile\u001b[0m \u001b[0mself\u001b[0m\u001b[1;33m.\u001b[0m\u001b[0mdispatch_one_batch\u001b[0m\u001b[1;33m(\u001b[0m\u001b[0miterator\u001b[0m\u001b[1;33m)\u001b[0m\u001b[1;33m:\u001b[0m\u001b[1;33m\u001b[0m\u001b[1;33m\u001b[0m\u001b[0m\n\u001b[0m\u001b[0;32m   1052\u001b[0m                 \u001b[1;32mpass\u001b[0m\u001b[1;33m\u001b[0m\u001b[1;33m\u001b[0m\u001b[0m\n\u001b[0;32m   1053\u001b[0m \u001b[1;33m\u001b[0m\u001b[0m\n",
      "\u001b[1;32mc:\\users\\aaberkan\\onedrive - ugent\\scripts\\nlp4re-privacy-policies\\nlp4re-pp-classification\\venv\\lib\\site-packages\\joblib\\parallel.py\u001b[0m in \u001b[0;36mdispatch_one_batch\u001b[1;34m(self, iterator)\u001b[0m\n\u001b[0;32m    864\u001b[0m                 \u001b[1;32mreturn\u001b[0m \u001b[1;32mFalse\u001b[0m\u001b[1;33m\u001b[0m\u001b[1;33m\u001b[0m\u001b[0m\n\u001b[0;32m    865\u001b[0m             \u001b[1;32melse\u001b[0m\u001b[1;33m:\u001b[0m\u001b[1;33m\u001b[0m\u001b[1;33m\u001b[0m\u001b[0m\n\u001b[1;32m--> 866\u001b[1;33m                 \u001b[0mself\u001b[0m\u001b[1;33m.\u001b[0m\u001b[0m_dispatch\u001b[0m\u001b[1;33m(\u001b[0m\u001b[0mtasks\u001b[0m\u001b[1;33m)\u001b[0m\u001b[1;33m\u001b[0m\u001b[1;33m\u001b[0m\u001b[0m\n\u001b[0m\u001b[0;32m    867\u001b[0m                 \u001b[1;32mreturn\u001b[0m \u001b[1;32mTrue\u001b[0m\u001b[1;33m\u001b[0m\u001b[1;33m\u001b[0m\u001b[0m\n\u001b[0;32m    868\u001b[0m \u001b[1;33m\u001b[0m\u001b[0m\n",
      "\u001b[1;32mc:\\users\\aaberkan\\onedrive - ugent\\scripts\\nlp4re-privacy-policies\\nlp4re-pp-classification\\venv\\lib\\site-packages\\joblib\\parallel.py\u001b[0m in \u001b[0;36m_dispatch\u001b[1;34m(self, batch)\u001b[0m\n\u001b[0;32m    782\u001b[0m         \u001b[1;32mwith\u001b[0m \u001b[0mself\u001b[0m\u001b[1;33m.\u001b[0m\u001b[0m_lock\u001b[0m\u001b[1;33m:\u001b[0m\u001b[1;33m\u001b[0m\u001b[1;33m\u001b[0m\u001b[0m\n\u001b[0;32m    783\u001b[0m             \u001b[0mjob_idx\u001b[0m \u001b[1;33m=\u001b[0m \u001b[0mlen\u001b[0m\u001b[1;33m(\u001b[0m\u001b[0mself\u001b[0m\u001b[1;33m.\u001b[0m\u001b[0m_jobs\u001b[0m\u001b[1;33m)\u001b[0m\u001b[1;33m\u001b[0m\u001b[1;33m\u001b[0m\u001b[0m\n\u001b[1;32m--> 784\u001b[1;33m             \u001b[0mjob\u001b[0m \u001b[1;33m=\u001b[0m \u001b[0mself\u001b[0m\u001b[1;33m.\u001b[0m\u001b[0m_backend\u001b[0m\u001b[1;33m.\u001b[0m\u001b[0mapply_async\u001b[0m\u001b[1;33m(\u001b[0m\u001b[0mbatch\u001b[0m\u001b[1;33m,\u001b[0m \u001b[0mcallback\u001b[0m\u001b[1;33m=\u001b[0m\u001b[0mcb\u001b[0m\u001b[1;33m)\u001b[0m\u001b[1;33m\u001b[0m\u001b[1;33m\u001b[0m\u001b[0m\n\u001b[0m\u001b[0;32m    785\u001b[0m             \u001b[1;31m# A job can complete so quickly than its callback is\u001b[0m\u001b[1;33m\u001b[0m\u001b[1;33m\u001b[0m\u001b[1;33m\u001b[0m\u001b[0m\n\u001b[0;32m    786\u001b[0m             \u001b[1;31m# called before we get here, causing self._jobs to\u001b[0m\u001b[1;33m\u001b[0m\u001b[1;33m\u001b[0m\u001b[1;33m\u001b[0m\u001b[0m\n",
      "\u001b[1;32mc:\\users\\aaberkan\\onedrive - ugent\\scripts\\nlp4re-privacy-policies\\nlp4re-pp-classification\\venv\\lib\\site-packages\\joblib\\_parallel_backends.py\u001b[0m in \u001b[0;36mapply_async\u001b[1;34m(self, func, callback)\u001b[0m\n\u001b[0;32m    206\u001b[0m     \u001b[1;32mdef\u001b[0m \u001b[0mapply_async\u001b[0m\u001b[1;33m(\u001b[0m\u001b[0mself\u001b[0m\u001b[1;33m,\u001b[0m \u001b[0mfunc\u001b[0m\u001b[1;33m,\u001b[0m \u001b[0mcallback\u001b[0m\u001b[1;33m=\u001b[0m\u001b[1;32mNone\u001b[0m\u001b[1;33m)\u001b[0m\u001b[1;33m:\u001b[0m\u001b[1;33m\u001b[0m\u001b[1;33m\u001b[0m\u001b[0m\n\u001b[0;32m    207\u001b[0m         \u001b[1;34m\"\"\"Schedule a func to be run\"\"\"\u001b[0m\u001b[1;33m\u001b[0m\u001b[1;33m\u001b[0m\u001b[0m\n\u001b[1;32m--> 208\u001b[1;33m         \u001b[0mresult\u001b[0m \u001b[1;33m=\u001b[0m \u001b[0mImmediateResult\u001b[0m\u001b[1;33m(\u001b[0m\u001b[0mfunc\u001b[0m\u001b[1;33m)\u001b[0m\u001b[1;33m\u001b[0m\u001b[1;33m\u001b[0m\u001b[0m\n\u001b[0m\u001b[0;32m    209\u001b[0m         \u001b[1;32mif\u001b[0m \u001b[0mcallback\u001b[0m\u001b[1;33m:\u001b[0m\u001b[1;33m\u001b[0m\u001b[1;33m\u001b[0m\u001b[0m\n\u001b[0;32m    210\u001b[0m             \u001b[0mcallback\u001b[0m\u001b[1;33m(\u001b[0m\u001b[0mresult\u001b[0m\u001b[1;33m)\u001b[0m\u001b[1;33m\u001b[0m\u001b[1;33m\u001b[0m\u001b[0m\n",
      "\u001b[1;32mc:\\users\\aaberkan\\onedrive - ugent\\scripts\\nlp4re-privacy-policies\\nlp4re-pp-classification\\venv\\lib\\site-packages\\joblib\\_parallel_backends.py\u001b[0m in \u001b[0;36m__init__\u001b[1;34m(self, batch)\u001b[0m\n\u001b[0;32m    570\u001b[0m         \u001b[1;31m# Don't delay the application, to avoid keeping the input\u001b[0m\u001b[1;33m\u001b[0m\u001b[1;33m\u001b[0m\u001b[1;33m\u001b[0m\u001b[0m\n\u001b[0;32m    571\u001b[0m         \u001b[1;31m# arguments in memory\u001b[0m\u001b[1;33m\u001b[0m\u001b[1;33m\u001b[0m\u001b[1;33m\u001b[0m\u001b[0m\n\u001b[1;32m--> 572\u001b[1;33m         \u001b[0mself\u001b[0m\u001b[1;33m.\u001b[0m\u001b[0mresults\u001b[0m \u001b[1;33m=\u001b[0m \u001b[0mbatch\u001b[0m\u001b[1;33m(\u001b[0m\u001b[1;33m)\u001b[0m\u001b[1;33m\u001b[0m\u001b[1;33m\u001b[0m\u001b[0m\n\u001b[0m\u001b[0;32m    573\u001b[0m \u001b[1;33m\u001b[0m\u001b[0m\n\u001b[0;32m    574\u001b[0m     \u001b[1;32mdef\u001b[0m \u001b[0mget\u001b[0m\u001b[1;33m(\u001b[0m\u001b[0mself\u001b[0m\u001b[1;33m)\u001b[0m\u001b[1;33m:\u001b[0m\u001b[1;33m\u001b[0m\u001b[1;33m\u001b[0m\u001b[0m\n",
      "\u001b[1;32mc:\\users\\aaberkan\\onedrive - ugent\\scripts\\nlp4re-privacy-policies\\nlp4re-pp-classification\\venv\\lib\\site-packages\\joblib\\parallel.py\u001b[0m in \u001b[0;36m__call__\u001b[1;34m(self)\u001b[0m\n\u001b[0;32m    260\u001b[0m         \u001b[1;31m# change the default number of processes to -1\u001b[0m\u001b[1;33m\u001b[0m\u001b[1;33m\u001b[0m\u001b[1;33m\u001b[0m\u001b[0m\n\u001b[0;32m    261\u001b[0m         \u001b[1;32mwith\u001b[0m \u001b[0mparallel_backend\u001b[0m\u001b[1;33m(\u001b[0m\u001b[0mself\u001b[0m\u001b[1;33m.\u001b[0m\u001b[0m_backend\u001b[0m\u001b[1;33m,\u001b[0m \u001b[0mn_jobs\u001b[0m\u001b[1;33m=\u001b[0m\u001b[0mself\u001b[0m\u001b[1;33m.\u001b[0m\u001b[0m_n_jobs\u001b[0m\u001b[1;33m)\u001b[0m\u001b[1;33m:\u001b[0m\u001b[1;33m\u001b[0m\u001b[1;33m\u001b[0m\u001b[0m\n\u001b[1;32m--> 262\u001b[1;33m             return [func(*args, **kwargs)\n\u001b[0m\u001b[0;32m    263\u001b[0m                     for func, args, kwargs in self.items]\n\u001b[0;32m    264\u001b[0m \u001b[1;33m\u001b[0m\u001b[0m\n",
      "\u001b[1;32mc:\\users\\aaberkan\\onedrive - ugent\\scripts\\nlp4re-privacy-policies\\nlp4re-pp-classification\\venv\\lib\\site-packages\\joblib\\parallel.py\u001b[0m in \u001b[0;36m<listcomp>\u001b[1;34m(.0)\u001b[0m\n\u001b[0;32m    260\u001b[0m         \u001b[1;31m# change the default number of processes to -1\u001b[0m\u001b[1;33m\u001b[0m\u001b[1;33m\u001b[0m\u001b[1;33m\u001b[0m\u001b[0m\n\u001b[0;32m    261\u001b[0m         \u001b[1;32mwith\u001b[0m \u001b[0mparallel_backend\u001b[0m\u001b[1;33m(\u001b[0m\u001b[0mself\u001b[0m\u001b[1;33m.\u001b[0m\u001b[0m_backend\u001b[0m\u001b[1;33m,\u001b[0m \u001b[0mn_jobs\u001b[0m\u001b[1;33m=\u001b[0m\u001b[0mself\u001b[0m\u001b[1;33m.\u001b[0m\u001b[0m_n_jobs\u001b[0m\u001b[1;33m)\u001b[0m\u001b[1;33m:\u001b[0m\u001b[1;33m\u001b[0m\u001b[1;33m\u001b[0m\u001b[0m\n\u001b[1;32m--> 262\u001b[1;33m             return [func(*args, **kwargs)\n\u001b[0m\u001b[0;32m    263\u001b[0m                     for func, args, kwargs in self.items]\n\u001b[0;32m    264\u001b[0m \u001b[1;33m\u001b[0m\u001b[0m\n",
      "\u001b[1;32mc:\\users\\aaberkan\\onedrive - ugent\\scripts\\nlp4re-privacy-policies\\nlp4re-pp-classification\\venv\\lib\\site-packages\\sklearn\\model_selection\\_validation.py\u001b[0m in \u001b[0;36m_fit_and_score\u001b[1;34m(estimator, X, y, scorer, train, test, verbose, parameters, fit_params, return_train_score, return_parameters, return_n_test_samples, return_times, return_estimator, error_score)\u001b[0m\n\u001b[0;32m    529\u001b[0m             \u001b[0mestimator\u001b[0m\u001b[1;33m.\u001b[0m\u001b[0mfit\u001b[0m\u001b[1;33m(\u001b[0m\u001b[0mX_train\u001b[0m\u001b[1;33m,\u001b[0m \u001b[1;33m**\u001b[0m\u001b[0mfit_params\u001b[0m\u001b[1;33m)\u001b[0m\u001b[1;33m\u001b[0m\u001b[1;33m\u001b[0m\u001b[0m\n\u001b[0;32m    530\u001b[0m         \u001b[1;32melse\u001b[0m\u001b[1;33m:\u001b[0m\u001b[1;33m\u001b[0m\u001b[1;33m\u001b[0m\u001b[0m\n\u001b[1;32m--> 531\u001b[1;33m             \u001b[0mestimator\u001b[0m\u001b[1;33m.\u001b[0m\u001b[0mfit\u001b[0m\u001b[1;33m(\u001b[0m\u001b[0mX_train\u001b[0m\u001b[1;33m,\u001b[0m \u001b[0my_train\u001b[0m\u001b[1;33m,\u001b[0m \u001b[1;33m**\u001b[0m\u001b[0mfit_params\u001b[0m\u001b[1;33m)\u001b[0m\u001b[1;33m\u001b[0m\u001b[1;33m\u001b[0m\u001b[0m\n\u001b[0m\u001b[0;32m    532\u001b[0m \u001b[1;33m\u001b[0m\u001b[0m\n\u001b[0;32m    533\u001b[0m     \u001b[1;32mexcept\u001b[0m \u001b[0mException\u001b[0m \u001b[1;32mas\u001b[0m \u001b[0me\u001b[0m\u001b[1;33m:\u001b[0m\u001b[1;33m\u001b[0m\u001b[1;33m\u001b[0m\u001b[0m\n",
      "\u001b[1;32mc:\\users\\aaberkan\\onedrive - ugent\\scripts\\nlp4re-privacy-policies\\nlp4re-pp-classification\\venv\\lib\\site-packages\\sklearn\\pipeline.py\u001b[0m in \u001b[0;36mfit\u001b[1;34m(self, X, y, **fit_params)\u001b[0m\n\u001b[0;32m    333\u001b[0m             \u001b[1;32mif\u001b[0m \u001b[0mself\u001b[0m\u001b[1;33m.\u001b[0m\u001b[0m_final_estimator\u001b[0m \u001b[1;33m!=\u001b[0m \u001b[1;34m'passthrough'\u001b[0m\u001b[1;33m:\u001b[0m\u001b[1;33m\u001b[0m\u001b[1;33m\u001b[0m\u001b[0m\n\u001b[0;32m    334\u001b[0m                 \u001b[0mfit_params_last_step\u001b[0m \u001b[1;33m=\u001b[0m \u001b[0mfit_params_steps\u001b[0m\u001b[1;33m[\u001b[0m\u001b[0mself\u001b[0m\u001b[1;33m.\u001b[0m\u001b[0msteps\u001b[0m\u001b[1;33m[\u001b[0m\u001b[1;33m-\u001b[0m\u001b[1;36m1\u001b[0m\u001b[1;33m]\u001b[0m\u001b[1;33m[\u001b[0m\u001b[1;36m0\u001b[0m\u001b[1;33m]\u001b[0m\u001b[1;33m]\u001b[0m\u001b[1;33m\u001b[0m\u001b[1;33m\u001b[0m\u001b[0m\n\u001b[1;32m--> 335\u001b[1;33m                 \u001b[0mself\u001b[0m\u001b[1;33m.\u001b[0m\u001b[0m_final_estimator\u001b[0m\u001b[1;33m.\u001b[0m\u001b[0mfit\u001b[0m\u001b[1;33m(\u001b[0m\u001b[0mXt\u001b[0m\u001b[1;33m,\u001b[0m \u001b[0my\u001b[0m\u001b[1;33m,\u001b[0m \u001b[1;33m**\u001b[0m\u001b[0mfit_params_last_step\u001b[0m\u001b[1;33m)\u001b[0m\u001b[1;33m\u001b[0m\u001b[1;33m\u001b[0m\u001b[0m\n\u001b[0m\u001b[0;32m    336\u001b[0m \u001b[1;33m\u001b[0m\u001b[0m\n\u001b[0;32m    337\u001b[0m         \u001b[1;32mreturn\u001b[0m \u001b[0mself\u001b[0m\u001b[1;33m\u001b[0m\u001b[1;33m\u001b[0m\u001b[0m\n",
      "\u001b[1;32mc:\\users\\aaberkan\\onedrive - ugent\\scripts\\nlp4re-privacy-policies\\nlp4re-pp-classification\\venv\\lib\\site-packages\\sklearn\\tree\\_classes.py\u001b[0m in \u001b[0;36mfit\u001b[1;34m(self, X, y, sample_weight, check_input, X_idx_sorted)\u001b[0m\n\u001b[0;32m    888\u001b[0m         \"\"\"\n\u001b[0;32m    889\u001b[0m \u001b[1;33m\u001b[0m\u001b[0m\n\u001b[1;32m--> 890\u001b[1;33m         super().fit(\n\u001b[0m\u001b[0;32m    891\u001b[0m             \u001b[0mX\u001b[0m\u001b[1;33m,\u001b[0m \u001b[0my\u001b[0m\u001b[1;33m,\u001b[0m\u001b[1;33m\u001b[0m\u001b[1;33m\u001b[0m\u001b[0m\n\u001b[0;32m    892\u001b[0m             \u001b[0msample_weight\u001b[0m\u001b[1;33m=\u001b[0m\u001b[0msample_weight\u001b[0m\u001b[1;33m,\u001b[0m\u001b[1;33m\u001b[0m\u001b[1;33m\u001b[0m\u001b[0m\n",
      "\u001b[1;32mc:\\users\\aaberkan\\onedrive - ugent\\scripts\\nlp4re-privacy-policies\\nlp4re-pp-classification\\venv\\lib\\site-packages\\sklearn\\tree\\_classes.py\u001b[0m in \u001b[0;36mfit\u001b[1;34m(self, X, y, sample_weight, check_input, X_idx_sorted)\u001b[0m\n\u001b[0;32m    373\u001b[0m                                            min_impurity_split)\n\u001b[0;32m    374\u001b[0m \u001b[1;33m\u001b[0m\u001b[0m\n\u001b[1;32m--> 375\u001b[1;33m         \u001b[0mbuilder\u001b[0m\u001b[1;33m.\u001b[0m\u001b[0mbuild\u001b[0m\u001b[1;33m(\u001b[0m\u001b[0mself\u001b[0m\u001b[1;33m.\u001b[0m\u001b[0mtree_\u001b[0m\u001b[1;33m,\u001b[0m \u001b[0mX\u001b[0m\u001b[1;33m,\u001b[0m \u001b[0my\u001b[0m\u001b[1;33m,\u001b[0m \u001b[0msample_weight\u001b[0m\u001b[1;33m,\u001b[0m \u001b[0mX_idx_sorted\u001b[0m\u001b[1;33m)\u001b[0m\u001b[1;33m\u001b[0m\u001b[1;33m\u001b[0m\u001b[0m\n\u001b[0m\u001b[0;32m    376\u001b[0m \u001b[1;33m\u001b[0m\u001b[0m\n\u001b[0;32m    377\u001b[0m         \u001b[1;32mif\u001b[0m \u001b[0mself\u001b[0m\u001b[1;33m.\u001b[0m\u001b[0mn_outputs_\u001b[0m \u001b[1;33m==\u001b[0m \u001b[1;36m1\u001b[0m \u001b[1;32mand\u001b[0m \u001b[0mis_classifier\u001b[0m\u001b[1;33m(\u001b[0m\u001b[0mself\u001b[0m\u001b[1;33m)\u001b[0m\u001b[1;33m:\u001b[0m\u001b[1;33m\u001b[0m\u001b[1;33m\u001b[0m\u001b[0m\n",
      "\u001b[1;31mKeyboardInterrupt\u001b[0m: "
     ]
    }
   ],
   "source": [
    "tfidf_pipeline = Pipeline([\n",
    "    ('cv', CountVectorizer()),\n",
    "    ('dt', DecisionTreeClassifier()),\n",
    "])\n",
    "\n",
    "# increase processing time in a combinatorial way\n",
    "parameters = {\n",
    "#     'cv__min_df': (0.25, 0.5, 1), #best solution: 1\n",
    "    'cv__max_df': (0.5, 0.75, 1), #best solution: .5\n",
    "#     'tfidf__max_df': (0.5, 0.75, 1.0),\n",
    "#     'cv__max_features': (None, 5000, 10000, 50000),\n",
    "    'cv__ngram_range': ((1, 1), (1, 2), (1, 3), (2, 2), (2, 3), (3, 3)) #best solution: 1,1\n",
    "}\n",
    "        \n",
    "grid_search = GridSearchCV(tfidf_pipeline, parameters)\n",
    "\n",
    "print(\"Performing grid search...\")\n",
    "print(\"tf-idf pipeline:\", [name for name, _ in tfidf_pipeline.steps])\n",
    "print(\"parameters:\")\n",
    "pprint(parameters)\n",
    "t0 = time()\n",
    "grid_search.fit(X_train, y_train) \n",
    "print(\"done in %0.3fs\" % (time() - t0))\n",
    "print()\n",
    "\n",
    "print(\"Best score: %0.3f\" % grid_search.best_score_)\n",
    "print(\"Best parameters set:\")\n",
    "best_parameters = grid_search.best_estimator_.get_params()\n",
    "for param_name in sorted(parameters.keys()):\n",
    "    print(\"\\t%s: %r\" % (param_name, best_parameters[param_name]))"
   ]
  },
  {
   "cell_type": "markdown",
   "metadata": {},
   "source": [
    "#### Countvectorizer"
   ]
  },
  {
   "cell_type": "code",
   "execution_count": 20,
   "metadata": {
    "collapsed": true
   },
   "outputs": [
    {
     "name": "stdout",
     "output_type": "stream",
     "text": [
      "CV Accuracy: 0.6136363636363636\n",
      "CV ROC_AUC Score: 0.5929752066115703\n",
      "\n",
      "              precision    recall  f1-score   support\n",
      "\n",
      "         0.0       0.86      0.27      0.41        22\n",
      "         1.0       0.57      0.95      0.71        22\n",
      "\n",
      "    accuracy                           0.61        44\n",
      "   macro avg       0.71      0.61      0.56        44\n",
      "weighted avg       0.71      0.61      0.56        44\n",
      "\n",
      "              precision    recall  f1-score   support\n",
      "\n",
      "         0.0       0.86      0.27      0.41        22\n",
      "         1.0       0.57      0.95      0.71        22\n",
      "\n",
      "    accuracy                           0.61        44\n",
      "   macro avg       0.71      0.61      0.56        44\n",
      "weighted avg       0.71      0.61      0.56        44\n",
      "\n",
      "                  predicted           \n",
      "                     Object not-Object\n",
      "actual Object             6         16\n",
      "       not-Object         1         21\n"
     ]
    }
   ],
   "source": [
    "# Instantiate the vectorizer\n",
    "count_vectorizer = CountVectorizer(ngram_range=(1, 1), max_df=1, min_df=1)\n",
    "\n",
    "# fit and transform on it the training features\n",
    "count_vectorizer.fit(X_train)\n",
    "X_train_word_features = count_vectorizer.transform(X_train)\n",
    "\n",
    "#transform the test features to sparse matrix\n",
    "test_features = count_vectorizer.transform(X_test)\n",
    "\n",
    "classifier = DecisionTreeClassifier(criterion=\"gini\")\n",
    "\n",
    "classifier.fit(X_train_word_features, y_train)\n",
    "y_pred = classifier.predict(test_features)\n",
    "y_pred_prob = classifier.predict_proba(test_features)[:, 1]\n",
    "# print(y_pred_prob)\n",
    "\n",
    "print('CV Accuracy: {}'.format(accuracy_score(y_test, y_pred)))\n",
    "print(\"CV ROC_AUC Score: {}\\n\".format(roc_auc_score(y_test, y_pred_prob)))\n",
    "\n",
    "print(classification_report(y_test, y_pred))\n",
    "\n",
    "print(classification_report(y_test, y_pred))\n",
    "# print(confusion_matrix(y_test, y_pred))\n",
    "print(pd.DataFrame(\n",
    "    confusion_matrix(y_test, y_pred),\n",
    "    index = [['actual', 'actual'], ['Object', 'not-Object']],\n",
    "    columns = [['predicted', 'predicted'], ['Object', 'not-Object']])) "
   ]
  },
  {
   "cell_type": "markdown",
   "metadata": {},
   "source": [
    "#### Visualize Countvector Decision-Tree Classification Results"
   ]
  },
  {
   "cell_type": "code",
   "execution_count": null,
   "metadata": {},
   "outputs": [],
   "source": [
    "# Visualize data\n",
    "dot_data = export_graphviz(classifier,\n",
    "                                feature_names=count_vectorizer.get_feature_names(),\n",
    "                                out_file=None,\n",
    "                                filled=True,\n",
    "                                rounded=True)\n",
    "graph = pydotplus.graph_from_dot_data(dot_data)\n",
    "\n",
    "colors = ('turquoise', 'orange')\n",
    "edges = collections.defaultdict(list)\n",
    "\n",
    "for edge in graph.get_edge_list():\n",
    "    edges[edge.get_source()].append(int(edge.get_destination()))\n",
    "\n",
    "for edge in edges:\n",
    "    edges[edge].sort()    \n",
    "    for i in range(2):\n",
    "        dest = graph.get_node(str(edges[edge][i]))[0]\n",
    "        dest.set_fillcolor(colors[i])\n",
    "\n",
    "graph.write_png('output/cv-tree.png')"
   ]
  },
  {
   "cell_type": "markdown",
   "metadata": {},
   "source": [
    "## TD-IDF Approach"
   ]
  },
  {
   "cell_type": "markdown",
   "metadata": {},
   "source": [
    "##### Search for best variables (tf-idf)"
   ]
  },
  {
   "cell_type": "code",
   "execution_count": 16,
   "metadata": {
    "collapsed": true
   },
   "outputs": [
    {
     "name": "stdout",
     "output_type": "stream",
     "text": [
      "Performing grid search for access\n",
      "tf-idf pipeline: ['tfidf', 'dt']\n",
      "parameters:\n",
      "{'dt__max_depth': array([3, 4, 5, 6, 7, 8, 9]),\n",
      " 'tfidf__max_df': (0.75, 1.0),\n",
      " 'tfidf__ngram_range': ((1, 1), (1, 2), (1, 3), (2, 2), (2, 3), (3, 3))}\n",
      "done in 231.400s\n",
      "\n",
      "Best score: 0.743\n",
      "Best parameters set:\n",
      "\tdt__max_depth: 9\n",
      "\ttfidf__max_df: 1.0\n",
      "\ttfidf__ngram_range: (1, 1)\n",
      "Performing grid search for rectification\n",
      "tf-idf pipeline: ['tfidf', 'dt']\n",
      "parameters:\n",
      "{'dt__max_depth': array([3, 4, 5, 6, 7, 8, 9]),\n",
      " 'tfidf__max_df': (0.75, 1.0),\n",
      " 'tfidf__ngram_range': ((1, 1), (1, 2), (1, 3), (2, 2), (2, 3), (3, 3))}\n",
      "done in 253.200s\n",
      "\n",
      "Best score: 0.696\n",
      "Best parameters set:\n",
      "\tdt__max_depth: 3\n",
      "\ttfidf__max_df: 0.75\n",
      "\ttfidf__ngram_range: (1, 1)\n",
      "Performing grid search for erasure\n",
      "tf-idf pipeline: ['tfidf', 'dt']\n",
      "parameters:\n",
      "{'dt__max_depth': array([3, 4, 5, 6, 7, 8, 9]),\n",
      " 'tfidf__max_df': (0.75, 1.0),\n",
      " 'tfidf__ngram_range': ((1, 1), (1, 2), (1, 3), (2, 2), (2, 3), (3, 3))}\n",
      "done in 244.225s\n",
      "\n",
      "Best score: 0.731\n",
      "Best parameters set:\n",
      "\tdt__max_depth: 3\n",
      "\ttfidf__max_df: 0.75\n",
      "\ttfidf__ngram_range: (3, 3)\n",
      "Performing grid search for restriction\n",
      "tf-idf pipeline: ['tfidf', 'dt']\n",
      "parameters:\n",
      "{'dt__max_depth': array([3, 4, 5, 6, 7, 8, 9]),\n",
      " 'tfidf__max_df': (0.75, 1.0),\n",
      " 'tfidf__ngram_range': ((1, 1), (1, 2), (1, 3), (2, 2), (2, 3), (3, 3))}\n",
      "done in 228.079s\n",
      "\n",
      "Best score: 0.629\n",
      "Best parameters set:\n",
      "\tdt__max_depth: 5\n",
      "\ttfidf__max_df: 1.0\n",
      "\ttfidf__ngram_range: (1, 2)\n",
      "Performing grid search for data_portability\n",
      "tf-idf pipeline: ['tfidf', 'dt']\n",
      "parameters:\n",
      "{'dt__max_depth': array([3, 4, 5, 6, 7, 8, 9]),\n",
      " 'tfidf__max_df': (0.75, 1.0),\n",
      " 'tfidf__ngram_range': ((1, 1), (1, 2), (1, 3), (2, 2), (2, 3), (3, 3))}\n",
      "done in 225.741s\n",
      "\n",
      "Best score: 0.616\n",
      "Best parameters set:\n",
      "\tdt__max_depth: 8\n",
      "\ttfidf__max_df: 1.0\n",
      "\ttfidf__ngram_range: (1, 1)\n",
      "Performing grid search for object\n",
      "tf-idf pipeline: ['tfidf', 'dt']\n",
      "parameters:\n",
      "{'dt__max_depth': array([3, 4, 5, 6, 7, 8, 9]),\n",
      " 'tfidf__max_df': (0.75, 1.0),\n",
      " 'tfidf__ngram_range': ((1, 1), (1, 2), (1, 3), (2, 2), (2, 3), (3, 3))}\n",
      "done in 222.283s\n",
      "\n",
      "Best score: 0.707\n",
      "Best parameters set:\n",
      "\tdt__max_depth: 4\n",
      "\ttfidf__max_df: 1.0\n",
      "\ttfidf__ngram_range: (1, 3)\n",
      "Performing grid search for automated_decision_making\n",
      "tf-idf pipeline: ['tfidf', 'dt']\n",
      "parameters:\n",
      "{'dt__max_depth': array([3, 4, 5, 6, 7, 8, 9]),\n",
      " 'tfidf__max_df': (0.75, 1.0),\n",
      " 'tfidf__ngram_range': ((1, 1), (1, 2), (1, 3), (2, 2), (2, 3), (3, 3))}\n",
      "done in 1144.069s\n",
      "\n",
      "Best score: 0.889\n",
      "Best parameters set:\n",
      "\tdt__max_depth: 8\n",
      "\ttfidf__max_df: 0.75\n",
      "\ttfidf__ngram_range: (1, 3)\n"
     ]
    }
   ],
   "source": [
    "# 'UR_explicitly_mentioned' weggelaten\n",
    "categories = ['access', 'rectification', 'erasure', 'restriction',\n",
    "              'data_portability', 'object', 'automated_decision_making']\n",
    "\n",
    "for i, category in enumerate(categories):\n",
    "    tfidf_pipeline = Pipeline([\n",
    "        ('tfidf', TfidfVectorizer()),\n",
    "        ('dt', DecisionTreeClassifier()),\n",
    "    ])\n",
    "\n",
    "    # increase processing time in a combinatorial way\n",
    "    parameters = {\n",
    "    #     'tfidf__min_df': (0.5, 0.75, 1.0), #best solution: (.75)\n",
    "        'tfidf__max_df': (0.75, 1.0), #best solution: (1.)\n",
    "    #     'tfidf__max_features': (None, 5000, 10000, 50000),\n",
    "        'tfidf__ngram_range': ((1, 1), (1, 2), (1, 3), (2, 2), (2, 3), (3, 3)), #best solution: (1,2)\n",
    "        'dt__max_depth': np.arange(3,10)\n",
    "    }\n",
    "\n",
    "    #https://towardsdatascience.com/how-to-tune-a-decision-tree-f03721801680\n",
    "    X_train, X_test, y_train, y_test = train_test_split(df_pp['policy'], df_pp[category], test_size=0.33, random_state=0)\n",
    "    grid_search = GridSearchCV(tfidf_pipeline, parameters)\n",
    "\n",
    "    print(\"Performing grid search for label: {}\".format(category))\n",
    "    print(\"tf-idf pipeline:\", [name for name, _ in tfidf_pipeline.steps])\n",
    "    print(\"parameters:\")\n",
    "    pprint(parameters)\n",
    "    t0 = time()\n",
    "    grid_search.fit(X_train, y_train) \n",
    "    print(\"done in %0.3fs\" % (time() - t0))\n",
    "    print()\n",
    "\n",
    "    print(\"Best score: %0.3f\" % grid_search.best_score_)\n",
    "    print(\"Best parameters set:\")\n",
    "    best_parameters = grid_search.best_estimator_.get_params()\n",
    "    for param_name in sorted(parameters.keys()):\n",
    "        print(\"\\t%s: %r\" % (param_name, best_parameters[param_name]))"
   ]
  },
  {
   "cell_type": "markdown",
   "metadata": {},
   "source": [
    "#### TF-IDF Vectorizer"
   ]
  },
  {
   "cell_type": "code",
   "execution_count": 34,
   "metadata": {
    "collapsed": true
   },
   "outputs": [
    {
     "name": "stdout",
     "output_type": "stream",
     "text": [
      "CV Accuracy: 0.6818181818181818\n",
      "CV ROC_AUC Score: 0.6987179487179488\n",
      "\n",
      "              precision    recall  f1-score   support\n",
      "\n",
      "         0.0       0.60      0.67      0.63        18\n",
      "         1.0       0.75      0.69      0.72        26\n",
      "\n",
      "    accuracy                           0.68        44\n",
      "   macro avg       0.68      0.68      0.68        44\n",
      "weighted avg       0.69      0.68      0.68        44\n",
      "\n",
      "              precision    recall  f1-score   support\n",
      "\n",
      "         0.0       0.60      0.67      0.63        18\n",
      "         1.0       0.75      0.69      0.72        26\n",
      "\n",
      "    accuracy                           0.68        44\n",
      "   macro avg       0.68      0.68      0.68        44\n",
      "weighted avg       0.69      0.68      0.68        44\n",
      "\n",
      "                  predicted           \n",
      "                     Object not-Object\n",
      "actual Object            12          6\n",
      "       not-Object         8         18\n"
     ]
    }
   ],
   "source": [
    "# Instantiate the vectorizer\n",
    "# tfidf_vectorizer = TfidfVectorizer(max_df=.75, ngram_range=(2, 3))\n",
    "X_train, X_test, y_train, y_test = train_test_split(df_pp['policy'], df_pp['erasure'], test_size=0.33, random_state=0)\n",
    "tfidf_vectorizer = TfidfVectorizer(ngram_range=(3,3))\n",
    "\n",
    "# fit and transform on it the training features\n",
    "tfidf_vectorizer.fit(X_train)\n",
    "X_train_word_features = tfidf_vectorizer.transform(X_train)\n",
    "\n",
    "#transform the test features to sparse matrix\n",
    "test_features = tfidf_vectorizer.transform(X_test)\n",
    "\n",
    "# https://scikit-learn.org/stable/modules/tree.html#tips-on-practical-use max_depth = 3\n",
    "tdidf_dt_classifier = DecisionTreeClassifier(criterion=\"gini\", max_depth = 3)\n",
    "\n",
    "tdidf_dt_classifier.fit(X_train_word_features, y_train)\n",
    "y_pred = tdidf_dt_classifier.predict(test_features)\n",
    "y_pred_prob = tdidf_dt_classifier.predict_proba(test_features)[:, 1]\n",
    "\n",
    "print('CV Accuracy: {}'.format(accuracy_score(y_test, y_pred)))\n",
    "print(\"CV ROC_AUC Score: {}\\n\".format(roc_auc_score(y_test, y_pred_prob)))\n",
    "\n",
    "print(classification_report(y_test, y_pred))\n",
    "\n",
    "print(classification_report(y_test, y_pred))\n",
    "# print(confusion_matrix(y_test, y_pred))\n",
    "print(pd.DataFrame(\n",
    "    confusion_matrix(y_test, y_pred),\n",
    "    index = [['actual', 'actual'], ['Object', 'not-Object']],\n",
    "    columns = [['predicted', 'predicted'], ['Object', 'not-Object']])) \n"
   ]
  },
  {
   "cell_type": "markdown",
   "metadata": {},
   "source": [
    "#### Plot feature importance"
   ]
  },
  {
   "cell_type": "code",
   "execution_count": 22,
   "metadata": {
    "collapsed": true
   },
   "outputs": [
    {
     "name": "stderr",
     "output_type": "stream",
     "text": [
      "c:\\users\\aaberkan\\onedrive - ugent\\scripts\\nlp4re-privacy-policies\\nlp4re-pp-classification\\venv\\lib\\site-packages\\seaborn\\axisgrid.py:1150: UserWarning: The `size` parameter has been renamed to `height`; please update your code.\n",
      "  warnings.warn(UserWarning(msg))\n"
     ]
    },
    {
     "data": {
      "image/png": "[encoded data removed]",
      "text/plain": [
       "<Figure size 360x360 with 1 Axes>"
      ]
     },
     "metadata": {},
     "output_type": "display_data"
    }
   ],
   "source": [
    "# Find out the most important features from the tfidf classification model\n",
    "# top_features = [(number, feature, tfidf_vectorizer.get_feature_names()[number]) for number, feature in \n",
    "#                 zip(range(len(tdidf_dt_classifier.feature_importances_)), tdidf_dt_classifier.feature_importances_) if feature > 0.0005]\n",
    "# print(top_features)\n",
    "\n",
    "fi = {'Words':tfidf_vectorizer.get_feature_names(),'Importance':tdidf_dt_classifier.feature_importances_}\n",
    "Importance = pd.DataFrame(fi,index=None).sort_values('Importance',ascending=False).head(10)\n",
    "titles = [\"Top 25 most important words in predicting label \\'object\\'\"]\n",
    "\n",
    "importance_plotting(Importance,'Importance','Words','Greens_r',titles)"
   ]
  },
  {
   "cell_type": "markdown",
   "metadata": {},
   "source": [
    "#### Visualize TD-IDF Decision-Tree Classification Results"
   ]
  },
  {
   "cell_type": "code",
   "execution_count": 23,
   "metadata": {},
   "outputs": [
    {
     "data": {
      "text/plain": [
       "True"
      ]
     },
     "execution_count": 23,
     "metadata": {},
     "output_type": "execute_result"
    }
   ],
   "source": [
    "# Visualize data\n",
    "dot_data = export_graphviz(tdidf_dt_classifier,\n",
    "                                feature_names=tfidf_vectorizer.get_feature_names(),\n",
    "                                out_file=None,\n",
    "                                filled=True,\n",
    "                                rounded=True)\n",
    "graph = pydotplus.graph_from_dot_data(dot_data)\n",
    "\n",
    "colors = ('turquoise', 'orange')\n",
    "edges = collections.defaultdict(list)\n",
    "\n",
    "for edge in graph.get_edge_list():\n",
    "    edges[edge.get_source()].append(int(edge.get_destination()))\n",
    "\n",
    "for edge in edges:\n",
    "    edges[edge].sort()    \n",
    "    for i in range(2):\n",
    "        dest = graph.get_node(str(edges[edge][i]))[0]\n",
    "        dest.set_fillcolor(colors[i])\n",
    "\n",
    "graph.write_png('output/tfidf-tree.png')"
   ]
  },
  {
   "cell_type": "markdown",
   "metadata": {},
   "source": [
    "#### TF-IDF Decision-Tree Classification and visualization of all labels"
   ]
  },
  {
   "cell_type": "code",
   "execution_count": 155,
   "metadata": {
    "scrolled": false
   },
   "outputs": [
    {
     "name": "stdout",
     "output_type": "stream",
     "text": [
      "Classifying privacy policies, label: access\n",
      "66% of the policies is pre-labeled as positive \n",
      "[5, (1, 1)]\n",
      "TFIDF Accuracy: 0.675\n",
      "TFIDF ROC_AUC Score: 0.6794871794871794\n",
      "\n",
      "              precision    recall  f1-score   support\n",
      "\n",
      "         0.0       0.50      0.69      0.58        13\n",
      "         1.0       0.82      0.67      0.73        27\n",
      "\n",
      "    accuracy                           0.68        40\n",
      "   macro avg       0.66      0.68      0.66        40\n",
      "weighted avg       0.71      0.68      0.68        40\n",
      "\n",
      "                  predicted           \n",
      "                     access not-access\n",
      "actual access             9          4\n",
      "       not-access         9         18\n"
     ]
    },
    {
     "name": "stderr",
     "output_type": "stream",
     "text": [
      "c:\\users\\aaberkan\\onedrive - ugent\\scripts\\nlp4re-privacy-policies\\nlp4re-pp-classification\\venv\\lib\\site-packages\\seaborn\\axisgrid.py:1150: UserWarning: The `size` parameter has been renamed to `height`; please update your code.\n",
      "  warnings.warn(UserWarning(msg))\n"
     ]
    },
    {
     "data": {
      "image/png": "[encoded data removed]",
      "text/plain": [
       "<Figure size 360x360 with 1 Axes>"
      ]
     },
     "metadata": {},
     "output_type": "display_data"
    },
    {
     "name": "stdout",
     "output_type": "stream",
     "text": [
      "Draw tree ..\n",
      "Completed!\n",
      "*********************** \n",
      "\n",
      "Classifying privacy policies, label: rectification\n",
      "65% of the policies is pre-labeled as positive \n",
      "[5, (2, 2)]\n",
      "TFIDF Accuracy: 0.725\n",
      "TFIDF ROC_AUC Score: 0.7586666666666666\n",
      "\n",
      "              precision    recall  f1-score   support\n",
      "\n",
      "         0.0       0.67      0.53      0.59        15\n",
      "         1.0       0.75      0.84      0.79        25\n",
      "\n",
      "    accuracy                           0.73        40\n",
      "   macro avg       0.71      0.69      0.69        40\n",
      "weighted avg       0.72      0.72      0.72        40\n",
      "\n",
      "                             predicted                  \n",
      "                         rectification not-rectification\n",
      "actual rectification                 8                 7\n",
      "       not-rectification             4                21\n"
     ]
    },
    {
     "name": "stderr",
     "output_type": "stream",
     "text": [
      "c:\\users\\aaberkan\\onedrive - ugent\\scripts\\nlp4re-privacy-policies\\nlp4re-pp-classification\\venv\\lib\\site-packages\\seaborn\\axisgrid.py:1150: UserWarning: The `size` parameter has been renamed to `height`; please update your code.\n",
      "  warnings.warn(UserWarning(msg))\n"
     ]
    },
    {
     "data": {
      "image/png": "[encoded data removed]",
      "text/plain": [
       "<Figure size 360x360 with 1 Axes>"
      ]
     },
     "metadata": {},
     "output_type": "display_data"
    },
    {
     "name": "stdout",
     "output_type": "stream",
     "text": [
      "Draw tree ..\n",
      "Completed!\n",
      "*********************** \n",
      "\n",
      "Classifying privacy policies, label: erasure\n",
      "65% of the policies is pre-labeled as positive \n",
      "[3, (3, 3)]\n",
      "TFIDF Accuracy: 0.675\n",
      "TFIDF ROC_AUC Score: 0.6923076923076923\n",
      "\n",
      "              precision    recall  f1-score   support\n",
      "\n",
      "         0.0       0.53      0.64      0.58        14\n",
      "         1.0       0.78      0.69      0.73        26\n",
      "\n",
      "    accuracy                           0.68        40\n",
      "   macro avg       0.66      0.67      0.66        40\n",
      "weighted avg       0.69      0.68      0.68        40\n",
      "\n",
      "                   predicted            \n",
      "                     erasure not-erasure\n",
      "actual erasure             9           5\n",
      "       not-erasure         8          18\n"
     ]
    },
    {
     "name": "stderr",
     "output_type": "stream",
     "text": [
      "c:\\users\\aaberkan\\onedrive - ugent\\scripts\\nlp4re-privacy-policies\\nlp4re-pp-classification\\venv\\lib\\site-packages\\seaborn\\axisgrid.py:1150: UserWarning: The `size` parameter has been renamed to `height`; please update your code.\n",
      "  warnings.warn(UserWarning(msg))\n"
     ]
    },
    {
     "data": {
      "image/png": "[encoded data removed]",
      "text/plain": [
       "<Figure size 360x360 with 1 Axes>"
      ]
     },
     "metadata": {},
     "output_type": "display_data"
    },
    {
     "name": "stdout",
     "output_type": "stream",
     "text": [
      "Draw tree ..\n",
      "Completed!\n",
      "*********************** \n",
      "\n",
      "Classifying privacy policies, label: restriction\n",
      "50% of the policies is pre-labeled as positive \n",
      "[3, (2, 2)]\n",
      "TFIDF Accuracy: 0.65\n",
      "TFIDF ROC_AUC Score: 0.6892583120204603\n",
      "\n",
      "              precision    recall  f1-score   support\n",
      "\n",
      "         0.0       0.55      0.94      0.70        17\n",
      "         1.0       0.91      0.43      0.59        23\n",
      "\n",
      "    accuracy                           0.65        40\n",
      "   macro avg       0.73      0.69      0.64        40\n",
      "weighted avg       0.76      0.65      0.63        40\n",
      "\n",
      "                         predicted                \n",
      "                       restriction not-restriction\n",
      "actual restriction              16               1\n",
      "       not-restriction          13              10\n"
     ]
    },
    {
     "name": "stderr",
     "output_type": "stream",
     "text": [
      "c:\\users\\aaberkan\\onedrive - ugent\\scripts\\nlp4re-privacy-policies\\nlp4re-pp-classification\\venv\\lib\\site-packages\\seaborn\\axisgrid.py:1150: UserWarning: The `size` parameter has been renamed to `height`; please update your code.\n",
      "  warnings.warn(UserWarning(msg))\n"
     ]
    },
    {
     "data": {
      "image/png": "[encoded data removed]",
      "text/plain": [
       "<Figure size 360x360 with 1 Axes>"
      ]
     },
     "metadata": {},
     "output_type": "display_data"
    },
    {
     "name": "stdout",
     "output_type": "stream",
     "text": [
      "Draw tree ..\n",
      "Completed!\n",
      "*********************** \n",
      "\n",
      "Classifying privacy policies, label: data_portability\n",
      "45% of the policies is pre-labeled as positive \n",
      "[4, (3, 3)]\n",
      "TFIDF Accuracy: 0.675\n",
      "TFIDF ROC_AUC Score: 0.6713554987212276\n",
      "\n",
      "              precision    recall  f1-score   support\n",
      "\n",
      "         0.0       0.73      0.70      0.71        23\n",
      "         1.0       0.61      0.65      0.63        17\n",
      "\n",
      "    accuracy                           0.68        40\n",
      "   macro avg       0.67      0.67      0.67        40\n",
      "weighted avg       0.68      0.68      0.68        40\n",
      "\n",
      "                                   predicted                     \n",
      "                            data_portability not-data_portability\n",
      "actual data_portability                   16                    7\n",
      "       not-data_portability                6                   11\n"
     ]
    },
    {
     "name": "stderr",
     "output_type": "stream",
     "text": [
      "c:\\users\\aaberkan\\onedrive - ugent\\scripts\\nlp4re-privacy-policies\\nlp4re-pp-classification\\venv\\lib\\site-packages\\seaborn\\axisgrid.py:1150: UserWarning: The `size` parameter has been renamed to `height`; please update your code.\n",
      "  warnings.warn(UserWarning(msg))\n"
     ]
    },
    {
     "data": {
      "image/png": "[encoded data removed]",
      "text/plain": [
       "<Figure size 360x360 with 1 Axes>"
      ]
     },
     "metadata": {},
     "output_type": "display_data"
    },
    {
     "name": "stdout",
     "output_type": "stream",
     "text": [
      "Draw tree ..\n",
      "Completed!\n",
      "*********************** \n",
      "\n",
      "Classifying privacy policies, label: object\n",
      "50% of the policies is pre-labeled as positive \n",
      "[3, (3, 3)]\n",
      "TFIDF Accuracy: 0.625\n",
      "TFIDF ROC_AUC Score: 0.678030303030303\n",
      "\n",
      "              precision    recall  f1-score   support\n",
      "\n",
      "         0.0       0.58      0.61      0.59        18\n",
      "         1.0       0.67      0.64      0.65        22\n",
      "\n",
      "    accuracy                           0.62        40\n",
      "   macro avg       0.62      0.62      0.62        40\n",
      "weighted avg       0.63      0.62      0.63        40\n",
      "\n",
      "                  predicted           \n",
      "                     object not-object\n",
      "actual object            11          7\n",
      "       not-object         8         14\n"
     ]
    },
    {
     "name": "stderr",
     "output_type": "stream",
     "text": [
      "c:\\users\\aaberkan\\onedrive - ugent\\scripts\\nlp4re-privacy-policies\\nlp4re-pp-classification\\venv\\lib\\site-packages\\seaborn\\axisgrid.py:1150: UserWarning: The `size` parameter has been renamed to `height`; please update your code.\n",
      "  warnings.warn(UserWarning(msg))\n"
     ]
    },
    {
     "data": {
      "image/png": "[encoded data removed]",
      "text/plain": [
       "<Figure size 360x360 with 1 Axes>"
      ]
     },
     "metadata": {},
     "output_type": "display_data"
    },
    {
     "name": "stdout",
     "output_type": "stream",
     "text": [
      "Draw tree ..\n",
      "Completed!\n",
      "*********************** \n",
      "\n",
      "Classifying privacy policies, label: automated_decision_making\n",
      "9% of the policies is pre-labeled as positive \n",
      "[3, (2, 2)]\n",
      "Oversampling training set...\n",
      "50% of the training set policies is pre-labeled as positive.\n",
      "TFIDF Accuracy: 0.775\n",
      "TFIDF ROC_AUC Score: 0.44285714285714284\n",
      "\n",
      "              precision    recall  f1-score   support\n",
      "\n",
      "         0.0       0.86      0.89      0.87        35\n",
      "         1.0       0.00      0.00      0.00         5\n",
      "\n",
      "    accuracy                           0.78        40\n",
      "   macro avg       0.43      0.44      0.44        40\n",
      "weighted avg       0.75      0.78      0.76        40\n",
      "\n",
      "                                                     predicted  \\\n",
      "                                     automated_decision_making   \n",
      "actual automated_decision_making                            31   \n",
      "       not-automated_decision_making                         5   \n",
      "\n",
      "                                                                    \n",
      "                                     not-automated_decision_making  \n",
      "actual automated_decision_making                                 4  \n",
      "       not-automated_decision_making                             0  \n"
     ]
    },
    {
     "name": "stderr",
     "output_type": "stream",
     "text": [
      "c:\\users\\aaberkan\\onedrive - ugent\\scripts\\nlp4re-privacy-policies\\nlp4re-pp-classification\\venv\\lib\\site-packages\\seaborn\\axisgrid.py:1150: UserWarning: The `size` parameter has been renamed to `height`; please update your code.\n",
      "  warnings.warn(UserWarning(msg))\n"
     ]
    },
    {
     "data": {
      "image/png": "[encoded data removed]",
      "text/plain": [
       "<Figure size 360x360 with 1 Axes>"
      ]
     },
     "metadata": {},
     "output_type": "display_data"
    },
    {
     "name": "stdout",
     "output_type": "stream",
     "text": [
      "Draw tree ..\n",
      "Completed!\n",
      "*********************** \n",
      "\n"
     ]
    }
   ],
   "source": [
    "# 'UR_explicitly_mentioned' weggelaten\n",
    "categories = ['access', 'rectification', 'erasure', 'restriction',\n",
    "              'data_portability', 'object', 'automated_decision_making']\n",
    "\n",
    "params = [\n",
    "    [5,(1,1)],\n",
    "    [5,(2,2)],\n",
    "    [3,(3,3)],\n",
    "    [3,(2,2)],\n",
    "    [4,(3,3)],\n",
    "    [3,(3,3)],\n",
    "    [3,(2,2)],\n",
    "]\n",
    "\n",
    "# categories = ['automated_decision_making']\n",
    "\n",
    "\n",
    "for i, category in enumerate(categories):\n",
    "   \n",
    "    print(\"Classifying privacy policies, label: {}\".format(category))\n",
    "    print(\"{}% of the policies is pre-labeled as positive \".format(int((len(df_pp[df_pp[category] == 1])/len(df_pp[category]))*100)))\n",
    "    X_train, X_test, y_train, y_test = train_test_split(df_pp['policy'], df_pp[category], test_size=0.3, random_state=0)\n",
    "    print(params[i])\n",
    "\n",
    "#     generaliseren dmv int((len(df_pp[df_pp[category] == 1])/len(df_pp[category]))*100)) < 30\n",
    "    if(category == \"automated_decision_making\"):\n",
    "        print(\"Oversampling training set...\")\n",
    "#         print(len(y_train))\n",
    "        X_train, y_train = oversample_ADM(X_train, y_train)\n",
    "        print(\"{}% of the training set policies is pre-labeled as positive.\".format(int((len(y_train[(y_train == 1)]) / len((y_train)))*100)))\n",
    "#         print(len(y_train))\n",
    "\n",
    "#     plot_dataset_dist(category)\n",
    "    \n",
    "    # Instantiate the vectorizer\n",
    "    tfidf_vectorizer = TfidfVectorizer(ngram_range=params[i][1])\n",
    "\n",
    "    # fit and transform on it the training features\n",
    "    tfidf_vectorizer.fit(X_train)\n",
    "    X_train_word_features = tfidf_vectorizer.transform(X_train)\n",
    "\n",
    "    #transform the test features to sparse matrix\n",
    "    test_features = tfidf_vectorizer.transform(X_test)\n",
    "\n",
    "    classifier = DecisionTreeClassifier(criterion=\"gini\", max_depth = params[i][0])\n",
    "\n",
    "    classifier.fit(X_train_word_features, y_train)\n",
    "    y_pred = classifier.predict(test_features)\n",
    "    y_pred_prob = classifier.predict_proba(test_features)[:, 1]\n",
    "#     print(y_pred)\n",
    "#     print(y_test)\n",
    "\n",
    "#     print(y_pred)\n",
    "    print('TFIDF Accuracy: {}'.format(accuracy_score(y_test, y_pred)))\n",
    "    print(\"TFIDF ROC_AUC Score: {}\\n\".format(roc_auc_score(y_test, y_pred_prob)))\n",
    "\n",
    "    print(classification_report(y_test, y_pred))\n",
    "    # print(confusion_matrix(y_test, y_pred))\n",
    "    print(pd.DataFrame(\n",
    "        confusion_matrix(y_test, y_pred),\n",
    "        index = [['actual', 'actual'], [category, 'not-'+category]],\n",
    "        columns = [['predicted', 'predicted'], [category, 'not-'+category]])) \n",
    "    \n",
    "    # plot word importance\n",
    "    fi = {'Words':tfidf_vectorizer.get_feature_names(),'Importance':classifier.feature_importances_}\n",
    "    Importance = pd.DataFrame(fi,index=None).sort_values('Importance',ascending=False).head(10)\n",
    "    titles = [\"Top 10 most important words in predicting label: \" + category]\n",
    "    importance_plotting(Importance,'Importance','Words','Greens_r',titles)\n",
    "    \n",
    "    print(\"Draw tree ..\")\n",
    "    draw_tree(category, classifier, tfidf_vectorizer, category + \" - TL3 - stopwords + stemming + lemmatization\")\n",
    "    print(\"Completed!\")\n",
    "    print(\"*********************** \\n\")"
   ]
  },
  {
   "cell_type": "code",
   "execution_count": null,
   "metadata": {},
   "outputs": [],
   "source": []
  },
  {
   "cell_type": "code",
   "execution_count": null,
   "metadata": {},
   "outputs": [],
   "source": []
  }
 ],
 "metadata": {
  "kernelspec": {
   "display_name": "Python 3",
   "language": "python",
   "name": "python3"
  },
  "language_info": {
   "codemirror_mode": {
    "name": "ipython",
    "version": 3
   },
   "file_extension": ".py",
   "mimetype": "text/x-python",
   "name": "python",
   "nbconvert_exporter": "python",
   "pygments_lexer": "ipython3",
   "version": "3.8.1"
  }
 },
 "nbformat": 4,
 "nbformat_minor": 4
}
